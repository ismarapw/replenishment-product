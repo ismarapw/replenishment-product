{
 "cells": [
  {
   "cell_type": "markdown",
   "metadata": {
    "id": "Wm8aKbnq4V2M"
   },
   "source": [
    "<h1> Prediksi Pengisian Ulang Produk Berbasis Pengguna Berdasarkan Pesanan Historis dan Fitur Item </h1>\n"
   ]
  },
  {
   "cell_type": "code",
   "execution_count": 8,
   "metadata": {
    "id": "aL9Oo4DT3yQz"
   },
   "outputs": [],
   "source": [
    "import matplotlib.pyplot as plt\n",
    "import seaborn as sns\n",
    "import pandas as pd\n",
    "import numpy as np\n",
    "import warnings\n",
    "warnings.filterwarnings(\"ignore\")"
   ]
  },
  {
   "cell_type": "markdown",
   "metadata": {
    "id": "DHKyYhDj5E-P"
   },
   "source": [
    "# 1.Import Dataset"
   ]
  },
  {
   "cell_type": "code",
   "execution_count": 9,
   "metadata": {
    "id": "8rrim_0j6AMM"
   },
   "outputs": [],
   "source": [
    "df_orders = pd.read_csv(\"../data/orders.csv\", sep = \"|\")\n",
    "df_items = pd.read_csv(\"../data/items.csv\", sep = \"|\")\n",
    "df_hierarchy = pd.read_csv(\"../data/category_hierarchy.csv\", sep = \"|\")\n",
    "df_submission = pd.read_csv(\"../data/submission.csv\", sep = \"|\")"
   ]
  },
  {
   "cell_type": "markdown",
   "metadata": {
    "id": "xDM-Fo3p40w2"
   },
   "source": [
    "1. Data items (items.csv) adalah kumpulan data yang mengandung karakteristik dari setiap item yang dijual berupa kolom-kolom yang merepresentasikan fitur dari suatu item. \n",
    "2. Data orders (orders.csv) merupakan data yang berisikan informasi tentang pesanan pengguna selama delapan bulan. Setiap baris menampilkan satu transaksi untuk satu item tunggal dari periode tanggal 1 Juni 2020 - 31 Januari 2021.\n",
    "3. Data category hierarchy (category_hierarchy.csv) adalah data yang berisi dua kolom kategori yang telah di-encode, yang memetakan setiap kategori ke kategori induknya.\n",
    "4. Data submission (submission.csv) adalah dataset untuk pengumpulan dan berisi subset kombinasi userID dan itemID yang telah ditentukan sebelumnya serta kolom \"prediksi\" untuk memprediksi apakah suatu barang diisi ulang pada minggu tertentu pada periode (bulan berikutnya) tanggal 1 Februari 2021 - 28 Februari 2021\n"
   ]
  },
  {
   "cell_type": "markdown",
   "metadata": {
    "id": "83m09Jo3vVrG"
   },
   "source": [
    "# 2.Analisis Data"
   ]
  },
  {
   "cell_type": "markdown",
   "metadata": {
    "id": "LjcH6HRzkDJ8"
   },
   "source": [
    "## 2.1.Informasi Kolom Data"
   ]
  },
  {
   "cell_type": "code",
   "execution_count": 10,
   "metadata": {
    "colab": {
     "base_uri": "https://localhost:8080/",
     "height": 424
    },
    "id": "eFrY7VHpj-rr",
    "outputId": "e9b9ddfc-4370-48eb-b5eb-dc241cb4e5d2"
   },
   "outputs": [
    {
     "data": {
      "text/html": [
       "<div>\n",
       "<style scoped>\n",
       "    .dataframe tbody tr th:only-of-type {\n",
       "        vertical-align: middle;\n",
       "    }\n",
       "\n",
       "    .dataframe tbody tr th {\n",
       "        vertical-align: top;\n",
       "    }\n",
       "\n",
       "    .dataframe thead th {\n",
       "        text-align: right;\n",
       "    }\n",
       "</style>\n",
       "<table border=\"1\" class=\"dataframe\">\n",
       "  <thead>\n",
       "    <tr style=\"text-align: right;\">\n",
       "      <th></th>\n",
       "      <th>date</th>\n",
       "      <th>userID</th>\n",
       "      <th>itemID</th>\n",
       "      <th>order</th>\n",
       "    </tr>\n",
       "  </thead>\n",
       "  <tbody>\n",
       "    <tr>\n",
       "      <th>0</th>\n",
       "      <td>2020-06-01</td>\n",
       "      <td>38769</td>\n",
       "      <td>3477</td>\n",
       "      <td>1</td>\n",
       "    </tr>\n",
       "    <tr>\n",
       "      <th>1</th>\n",
       "      <td>2020-06-01</td>\n",
       "      <td>42535</td>\n",
       "      <td>30474</td>\n",
       "      <td>1</td>\n",
       "    </tr>\n",
       "    <tr>\n",
       "      <th>2</th>\n",
       "      <td>2020-06-01</td>\n",
       "      <td>42535</td>\n",
       "      <td>15833</td>\n",
       "      <td>1</td>\n",
       "    </tr>\n",
       "    <tr>\n",
       "      <th>3</th>\n",
       "      <td>2020-06-01</td>\n",
       "      <td>42535</td>\n",
       "      <td>20131</td>\n",
       "      <td>1</td>\n",
       "    </tr>\n",
       "    <tr>\n",
       "      <th>4</th>\n",
       "      <td>2020-06-01</td>\n",
       "      <td>42535</td>\n",
       "      <td>4325</td>\n",
       "      <td>1</td>\n",
       "    </tr>\n",
       "    <tr>\n",
       "      <th>...</th>\n",
       "      <td>...</td>\n",
       "      <td>...</td>\n",
       "      <td>...</td>\n",
       "      <td>...</td>\n",
       "    </tr>\n",
       "    <tr>\n",
       "      <th>1071533</th>\n",
       "      <td>2021-01-31</td>\n",
       "      <td>22114</td>\n",
       "      <td>29567</td>\n",
       "      <td>2</td>\n",
       "    </tr>\n",
       "    <tr>\n",
       "      <th>1071534</th>\n",
       "      <td>2021-01-31</td>\n",
       "      <td>22114</td>\n",
       "      <td>21068</td>\n",
       "      <td>1</td>\n",
       "    </tr>\n",
       "    <tr>\n",
       "      <th>1071535</th>\n",
       "      <td>2021-01-31</td>\n",
       "      <td>10900</td>\n",
       "      <td>18270</td>\n",
       "      <td>1</td>\n",
       "    </tr>\n",
       "    <tr>\n",
       "      <th>1071536</th>\n",
       "      <td>2021-01-31</td>\n",
       "      <td>17894</td>\n",
       "      <td>31265</td>\n",
       "      <td>5</td>\n",
       "    </tr>\n",
       "    <tr>\n",
       "      <th>1071537</th>\n",
       "      <td>2021-01-31</td>\n",
       "      <td>25974</td>\n",
       "      <td>17983</td>\n",
       "      <td>1</td>\n",
       "    </tr>\n",
       "  </tbody>\n",
       "</table>\n",
       "<p>1071538 rows × 4 columns</p>\n",
       "</div>"
      ],
      "text/plain": [
       "               date  userID  itemID  order\n",
       "0        2020-06-01   38769    3477      1\n",
       "1        2020-06-01   42535   30474      1\n",
       "2        2020-06-01   42535   15833      1\n",
       "3        2020-06-01   42535   20131      1\n",
       "4        2020-06-01   42535    4325      1\n",
       "...             ...     ...     ...    ...\n",
       "1071533  2021-01-31   22114   29567      2\n",
       "1071534  2021-01-31   22114   21068      1\n",
       "1071535  2021-01-31   10900   18270      1\n",
       "1071536  2021-01-31   17894   31265      5\n",
       "1071537  2021-01-31   25974   17983      1\n",
       "\n",
       "[1071538 rows x 4 columns]"
      ]
     },
     "execution_count": 10,
     "metadata": {},
     "output_type": "execute_result"
    }
   ],
   "source": [
    "# Preview dataset\n",
    "df_orders"
   ]
  },
  {
   "cell_type": "code",
   "execution_count": 11,
   "metadata": {
    "colab": {
     "base_uri": "https://localhost:8080/"
    },
    "id": "2WOg78hqkGh_",
    "outputId": "3816b851-875c-4434-9f35-2bd4a0fde6a1"
   },
   "outputs": [
    {
     "name": "stdout",
     "output_type": "stream",
     "text": [
      "<class 'pandas.core.frame.DataFrame'>\n",
      "RangeIndex: 1071538 entries, 0 to 1071537\n",
      "Data columns (total 4 columns):\n",
      " #   Column  Non-Null Count    Dtype \n",
      "---  ------  --------------    ----- \n",
      " 0   date    1071538 non-null  object\n",
      " 1   userID  1071538 non-null  int64 \n",
      " 2   itemID  1071538 non-null  int64 \n",
      " 3   order   1071538 non-null  int64 \n",
      "dtypes: int64(3), object(1)\n",
      "memory usage: 32.7+ MB\n"
     ]
    }
   ],
   "source": [
    "# dataset info\n",
    "df_orders.info()"
   ]
  },
  {
   "cell_type": "code",
   "execution_count": 12,
   "metadata": {
    "colab": {
     "base_uri": "https://localhost:8080/"
    },
    "id": "l2dcPmzNkL2P",
    "outputId": "46ec7d69-b6ce-4927-a3a3-b6fac50ede8f"
   },
   "outputs": [
    {
     "data": {
      "text/plain": [
       "date      0\n",
       "userID    0\n",
       "itemID    0\n",
       "order     0\n",
       "dtype: int64"
      ]
     },
     "execution_count": 12,
     "metadata": {},
     "output_type": "execute_result"
    }
   ],
   "source": [
    "# Mengecek nilai yang hilang pada tiap kolom\n",
    "df_orders.isna().sum()"
   ]
  },
  {
   "cell_type": "markdown",
   "metadata": {
    "id": "irOHFMNskRM7"
   },
   "source": [
    "## 2.2.Jumlah Order Barang Perbulan"
   ]
  },
  {
   "cell_type": "code",
   "execution_count": 36,
   "metadata": {
    "id": "CEs_PKh0mN6B"
   },
   "outputs": [],
   "source": [
    "# Convert tipe data pada kolom date\n",
    "df_orders['date'] = pd.to_datetime(df_orders['date'])"
   ]
  },
  {
   "cell_type": "code",
   "execution_count": 38,
   "metadata": {
    "id": "2r-BNpwymnbq"
   },
   "outputs": [],
   "source": [
    "# Ambil atribut bulan dan tahun dari kolom date\n",
    "df_orders['month_year'] = df_orders['date'].dt.to_period('M').dt.strftime('%Y-%m')"
   ]
  },
  {
   "cell_type": "code",
   "execution_count": 43,
   "metadata": {
    "colab": {
     "base_uri": "https://localhost:8080/",
     "height": 308
    },
    "id": "RE_PPVqnnXm3",
    "outputId": "02253b00-8d42-44c4-99ab-03fca1e18012"
   },
   "outputs": [
    {
     "data": {
      "image/png": "[encoded data removed]",
      "text/plain": [
       "<Figure size 640x480 with 1 Axes>"
      ]
     },
     "metadata": {},
     "output_type": "display_data"
    }
   ],
   "source": [
    "# Kelompokkan data pembelian berdasarkan bulan\n",
    "order_per_month = df_orders.drop(columns=['date']).groupby('month_year').sum()['order']\n",
    "\n",
    "# plot jumlah order perbulan\n",
    "plt.title(\"Orderan Perbulan\")\n",
    "order_per_month.plot.line()\n",
    "plt.show()"
   ]
  },
  {
   "cell_type": "markdown",
   "metadata": {
    "id": "9zmWj0-6sIYg"
   },
   "source": [
    "## 2.3. Penjualan Item Terbanyak"
   ]
  },
  {
   "cell_type": "code",
   "execution_count": 45,
   "metadata": {
    "id": "_5KsE1YTsXmW"
   },
   "outputs": [],
   "source": [
    "# Kelompokkan data berdasarkan item\n",
    "most_item = df_orders.drop(columns=['date']).groupby('itemID').sum()"
   ]
  },
  {
   "cell_type": "code",
   "execution_count": 46,
   "metadata": {
    "id": "c9LBt2gqxm5u"
   },
   "outputs": [],
   "source": [
    "# Urutkan 20 item terbanyak yang diorder\n",
    "most_item = most_item['order'].sort_values(ascending = False)[:20]"
   ]
  },
  {
   "cell_type": "code",
   "execution_count": 47,
   "metadata": {
    "colab": {
     "base_uri": "https://localhost:8080/",
     "height": 317
    },
    "id": "1HVbe7Kix6Sz",
    "outputId": "94583028-6274-4e1f-819d-7dbb9dc8902f"
   },
   "outputs": [
    {
     "data": {
      "image/png": "[encoded data removed]",
      "text/plain": [
       "<Figure size 640x480 with 1 Axes>"
      ]
     },
     "metadata": {},
     "output_type": "display_data"
    }
   ],
   "source": [
    "# Plot item terbanyak yang diorder\n",
    "plt.title(\"20 Item paling banyak diorder\")\n",
    "most_item.plot.bar()\n",
    "plt.show()"
   ]
  },
  {
   "cell_type": "markdown",
   "metadata": {
    "id": "2AWczAcjz8Ru"
   },
   "source": [
    "# 3.Preprocessing Data"
   ]
  },
  {
   "cell_type": "markdown",
   "metadata": {
    "id": "vTjQVsQU0hT4"
   },
   "source": [
    "## 3.1.Split Kolom Date"
   ]
  },
  {
   "cell_type": "code",
   "execution_count": 48,
   "metadata": {
    "id": "t-XkDV430Eff"
   },
   "outputs": [],
   "source": [
    "df_orders_2 = df_orders.drop(columns = ['month_year'])"
   ]
  },
  {
   "cell_type": "code",
   "execution_count": 49,
   "metadata": {
    "colab": {
     "base_uri": "https://localhost:8080/",
     "height": 206
    },
    "id": "tncH83ZS0wTG",
    "outputId": "533646e8-654f-4356-bcbe-c51c571eecb0"
   },
   "outputs": [
    {
     "data": {
      "text/html": [
       "<div>\n",
       "<style scoped>\n",
       "    .dataframe tbody tr th:only-of-type {\n",
       "        vertical-align: middle;\n",
       "    }\n",
       "\n",
       "    .dataframe tbody tr th {\n",
       "        vertical-align: top;\n",
       "    }\n",
       "\n",
       "    .dataframe thead th {\n",
       "        text-align: right;\n",
       "    }\n",
       "</style>\n",
       "<table border=\"1\" class=\"dataframe\">\n",
       "  <thead>\n",
       "    <tr style=\"text-align: right;\">\n",
       "      <th></th>\n",
       "      <th>date</th>\n",
       "      <th>userID</th>\n",
       "      <th>itemID</th>\n",
       "      <th>order</th>\n",
       "    </tr>\n",
       "  </thead>\n",
       "  <tbody>\n",
       "    <tr>\n",
       "      <th>0</th>\n",
       "      <td>2020-06-01</td>\n",
       "      <td>38769</td>\n",
       "      <td>3477</td>\n",
       "      <td>1</td>\n",
       "    </tr>\n",
       "    <tr>\n",
       "      <th>1</th>\n",
       "      <td>2020-06-01</td>\n",
       "      <td>42535</td>\n",
       "      <td>30474</td>\n",
       "      <td>1</td>\n",
       "    </tr>\n",
       "    <tr>\n",
       "      <th>2</th>\n",
       "      <td>2020-06-01</td>\n",
       "      <td>42535</td>\n",
       "      <td>15833</td>\n",
       "      <td>1</td>\n",
       "    </tr>\n",
       "    <tr>\n",
       "      <th>3</th>\n",
       "      <td>2020-06-01</td>\n",
       "      <td>42535</td>\n",
       "      <td>20131</td>\n",
       "      <td>1</td>\n",
       "    </tr>\n",
       "    <tr>\n",
       "      <th>4</th>\n",
       "      <td>2020-06-01</td>\n",
       "      <td>42535</td>\n",
       "      <td>4325</td>\n",
       "      <td>1</td>\n",
       "    </tr>\n",
       "  </tbody>\n",
       "</table>\n",
       "</div>"
      ],
      "text/plain": [
       "        date  userID  itemID  order\n",
       "0 2020-06-01   38769    3477      1\n",
       "1 2020-06-01   42535   30474      1\n",
       "2 2020-06-01   42535   15833      1\n",
       "3 2020-06-01   42535   20131      1\n",
       "4 2020-06-01   42535    4325      1"
      ]
     },
     "execution_count": 49,
     "metadata": {},
     "output_type": "execute_result"
    }
   ],
   "source": [
    "# Preview Dataset\n",
    "df_orders_2.head()"
   ]
  },
  {
   "cell_type": "code",
   "execution_count": 50,
   "metadata": {
    "id": "LWRiKIEv03cn"
   },
   "outputs": [],
   "source": [
    "# Split kolom date menjadi day, month, dan year (kolom baru)\n",
    "df_orders_2['day'] = pd.to_datetime(df_orders['date']).dt.day\n",
    "df_orders_2['month'] = pd.to_datetime(df_orders['date']).dt.month\n",
    "df_orders_2['year'] = pd.to_datetime(df_orders['date']).dt.year"
   ]
  },
  {
   "cell_type": "code",
   "execution_count": 51,
   "metadata": {
    "colab": {
     "base_uri": "https://localhost:8080/",
     "height": 424
    },
    "id": "CSITPFfb15IG",
    "outputId": "fe0a26f5-b791-43bf-96ac-de91f8991bcb"
   },
   "outputs": [
    {
     "data": {
      "text/html": [
       "<div>\n",
       "<style scoped>\n",
       "    .dataframe tbody tr th:only-of-type {\n",
       "        vertical-align: middle;\n",
       "    }\n",
       "\n",
       "    .dataframe tbody tr th {\n",
       "        vertical-align: top;\n",
       "    }\n",
       "\n",
       "    .dataframe thead th {\n",
       "        text-align: right;\n",
       "    }\n",
       "</style>\n",
       "<table border=\"1\" class=\"dataframe\">\n",
       "  <thead>\n",
       "    <tr style=\"text-align: right;\">\n",
       "      <th></th>\n",
       "      <th>userID</th>\n",
       "      <th>itemID</th>\n",
       "      <th>order</th>\n",
       "      <th>day</th>\n",
       "      <th>month</th>\n",
       "      <th>year</th>\n",
       "    </tr>\n",
       "  </thead>\n",
       "  <tbody>\n",
       "    <tr>\n",
       "      <th>0</th>\n",
       "      <td>38769</td>\n",
       "      <td>3477</td>\n",
       "      <td>1</td>\n",
       "      <td>1</td>\n",
       "      <td>6</td>\n",
       "      <td>2020</td>\n",
       "    </tr>\n",
       "    <tr>\n",
       "      <th>1</th>\n",
       "      <td>42535</td>\n",
       "      <td>30474</td>\n",
       "      <td>1</td>\n",
       "      <td>1</td>\n",
       "      <td>6</td>\n",
       "      <td>2020</td>\n",
       "    </tr>\n",
       "    <tr>\n",
       "      <th>2</th>\n",
       "      <td>42535</td>\n",
       "      <td>15833</td>\n",
       "      <td>1</td>\n",
       "      <td>1</td>\n",
       "      <td>6</td>\n",
       "      <td>2020</td>\n",
       "    </tr>\n",
       "    <tr>\n",
       "      <th>3</th>\n",
       "      <td>42535</td>\n",
       "      <td>20131</td>\n",
       "      <td>1</td>\n",
       "      <td>1</td>\n",
       "      <td>6</td>\n",
       "      <td>2020</td>\n",
       "    </tr>\n",
       "    <tr>\n",
       "      <th>4</th>\n",
       "      <td>42535</td>\n",
       "      <td>4325</td>\n",
       "      <td>1</td>\n",
       "      <td>1</td>\n",
       "      <td>6</td>\n",
       "      <td>2020</td>\n",
       "    </tr>\n",
       "    <tr>\n",
       "      <th>...</th>\n",
       "      <td>...</td>\n",
       "      <td>...</td>\n",
       "      <td>...</td>\n",
       "      <td>...</td>\n",
       "      <td>...</td>\n",
       "      <td>...</td>\n",
       "    </tr>\n",
       "    <tr>\n",
       "      <th>1071533</th>\n",
       "      <td>22114</td>\n",
       "      <td>29567</td>\n",
       "      <td>2</td>\n",
       "      <td>31</td>\n",
       "      <td>1</td>\n",
       "      <td>2021</td>\n",
       "    </tr>\n",
       "    <tr>\n",
       "      <th>1071534</th>\n",
       "      <td>22114</td>\n",
       "      <td>21068</td>\n",
       "      <td>1</td>\n",
       "      <td>31</td>\n",
       "      <td>1</td>\n",
       "      <td>2021</td>\n",
       "    </tr>\n",
       "    <tr>\n",
       "      <th>1071535</th>\n",
       "      <td>10900</td>\n",
       "      <td>18270</td>\n",
       "      <td>1</td>\n",
       "      <td>31</td>\n",
       "      <td>1</td>\n",
       "      <td>2021</td>\n",
       "    </tr>\n",
       "    <tr>\n",
       "      <th>1071536</th>\n",
       "      <td>17894</td>\n",
       "      <td>31265</td>\n",
       "      <td>5</td>\n",
       "      <td>31</td>\n",
       "      <td>1</td>\n",
       "      <td>2021</td>\n",
       "    </tr>\n",
       "    <tr>\n",
       "      <th>1071537</th>\n",
       "      <td>25974</td>\n",
       "      <td>17983</td>\n",
       "      <td>1</td>\n",
       "      <td>31</td>\n",
       "      <td>1</td>\n",
       "      <td>2021</td>\n",
       "    </tr>\n",
       "  </tbody>\n",
       "</table>\n",
       "<p>1071538 rows × 6 columns</p>\n",
       "</div>"
      ],
      "text/plain": [
       "         userID  itemID  order  day  month  year\n",
       "0         38769    3477      1    1      6  2020\n",
       "1         42535   30474      1    1      6  2020\n",
       "2         42535   15833      1    1      6  2020\n",
       "3         42535   20131      1    1      6  2020\n",
       "4         42535    4325      1    1      6  2020\n",
       "...         ...     ...    ...  ...    ...   ...\n",
       "1071533   22114   29567      2   31      1  2021\n",
       "1071534   22114   21068      1   31      1  2021\n",
       "1071535   10900   18270      1   31      1  2021\n",
       "1071536   17894   31265      5   31      1  2021\n",
       "1071537   25974   17983      1   31      1  2021\n",
       "\n",
       "[1071538 rows x 6 columns]"
      ]
     },
     "execution_count": 51,
     "metadata": {},
     "output_type": "execute_result"
    }
   ],
   "source": [
    "df_orders_2 = df_orders_2.drop(columns = ['date'])\n",
    "df_orders_2"
   ]
  },
  {
   "cell_type": "markdown",
   "metadata": {
    "id": "2er8sK4wk-Ol"
   },
   "source": [
    "## 3.2.Membuat Kolom Minggu Berdasarkan Hari"
   ]
  },
  {
   "cell_type": "code",
   "execution_count": 52,
   "metadata": {
    "colab": {
     "base_uri": "https://localhost:8080/"
    },
    "id": "2Jz-Klw1lz1r",
    "outputId": "e495e273-459f-47ab-e57e-89f82c716ac5"
   },
   "outputs": [
    {
     "data": {
      "text/plain": [
       "array([ 1,  2,  3,  4,  5,  6,  7,  8,  9, 10, 11, 12, 13, 14, 15, 16, 17,\n",
       "       18, 19, 20, 21, 22, 23, 24, 25, 26, 27, 28, 29, 30, 31])"
      ]
     },
     "execution_count": 52,
     "metadata": {},
     "output_type": "execute_result"
    }
   ],
   "source": [
    "# data unik pada kolom day\n",
    "df_orders_2['day'].unique()"
   ]
  },
  {
   "cell_type": "code",
   "execution_count": 53,
   "metadata": {
    "id": "I8nWFWR7mNgd"
   },
   "outputs": [],
   "source": [
    "# fungsi membuat hari menjadi minggu \n",
    "def dayToWeek(day):\n",
    "  if(day >= 1 and day <= 7) : \n",
    "    return 1\n",
    "  elif(day >= 8 and day <=14):\n",
    "    return 2\n",
    "  elif(day >= 15 and day <=21):\n",
    "    return 3\n",
    "  elif(day >= 22 and day <= 31):\n",
    "    return 4\n",
    "  raise Exception(\"Data tanggal tidak valid\")"
   ]
  },
  {
   "cell_type": "code",
   "execution_count": 54,
   "metadata": {
    "colab": {
     "base_uri": "https://localhost:8080/",
     "height": 206
    },
    "id": "7rL1P25ql6W0",
    "outputId": "b2680855-349d-46e4-a49a-2b63244881e8"
   },
   "outputs": [
    {
     "data": {
      "text/html": [
       "<div>\n",
       "<style scoped>\n",
       "    .dataframe tbody tr th:only-of-type {\n",
       "        vertical-align: middle;\n",
       "    }\n",
       "\n",
       "    .dataframe tbody tr th {\n",
       "        vertical-align: top;\n",
       "    }\n",
       "\n",
       "    .dataframe thead th {\n",
       "        text-align: right;\n",
       "    }\n",
       "</style>\n",
       "<table border=\"1\" class=\"dataframe\">\n",
       "  <thead>\n",
       "    <tr style=\"text-align: right;\">\n",
       "      <th></th>\n",
       "      <th>userID</th>\n",
       "      <th>itemID</th>\n",
       "      <th>order</th>\n",
       "      <th>day</th>\n",
       "      <th>month</th>\n",
       "      <th>year</th>\n",
       "      <th>week</th>\n",
       "    </tr>\n",
       "  </thead>\n",
       "  <tbody>\n",
       "    <tr>\n",
       "      <th>0</th>\n",
       "      <td>38769</td>\n",
       "      <td>3477</td>\n",
       "      <td>1</td>\n",
       "      <td>1</td>\n",
       "      <td>6</td>\n",
       "      <td>2020</td>\n",
       "      <td>1</td>\n",
       "    </tr>\n",
       "    <tr>\n",
       "      <th>1</th>\n",
       "      <td>42535</td>\n",
       "      <td>30474</td>\n",
       "      <td>1</td>\n",
       "      <td>1</td>\n",
       "      <td>6</td>\n",
       "      <td>2020</td>\n",
       "      <td>1</td>\n",
       "    </tr>\n",
       "    <tr>\n",
       "      <th>2</th>\n",
       "      <td>42535</td>\n",
       "      <td>15833</td>\n",
       "      <td>1</td>\n",
       "      <td>1</td>\n",
       "      <td>6</td>\n",
       "      <td>2020</td>\n",
       "      <td>1</td>\n",
       "    </tr>\n",
       "    <tr>\n",
       "      <th>3</th>\n",
       "      <td>42535</td>\n",
       "      <td>20131</td>\n",
       "      <td>1</td>\n",
       "      <td>1</td>\n",
       "      <td>6</td>\n",
       "      <td>2020</td>\n",
       "      <td>1</td>\n",
       "    </tr>\n",
       "    <tr>\n",
       "      <th>4</th>\n",
       "      <td>42535</td>\n",
       "      <td>4325</td>\n",
       "      <td>1</td>\n",
       "      <td>1</td>\n",
       "      <td>6</td>\n",
       "      <td>2020</td>\n",
       "      <td>1</td>\n",
       "    </tr>\n",
       "  </tbody>\n",
       "</table>\n",
       "</div>"
      ],
      "text/plain": [
       "   userID  itemID  order  day  month  year  week\n",
       "0   38769    3477      1    1      6  2020     1\n",
       "1   42535   30474      1    1      6  2020     1\n",
       "2   42535   15833      1    1      6  2020     1\n",
       "3   42535   20131      1    1      6  2020     1\n",
       "4   42535    4325      1    1      6  2020     1"
      ]
     },
     "execution_count": 54,
     "metadata": {},
     "output_type": "execute_result"
    }
   ],
   "source": [
    "# karena dalam 1 bulan kurang lebih ada tanggal 1 - 31, maka rentang ini akan dibagi menjadi 4 minggu\n",
    "df_orders_2['week'] = df_orders_2['day'].apply(dayToWeek)\n",
    "df_orders_2.head()"
   ]
  },
  {
   "cell_type": "markdown",
   "metadata": {
    "id": "zhfA3rqDP29Y"
   },
   "source": [
    "## 3.3.Ekstrasksi Pola Pembelian"
   ]
  },
  {
   "cell_type": "code",
   "execution_count": 55,
   "metadata": {
    "colab": {
     "base_uri": "https://localhost:8080/",
     "height": 300
    },
    "id": "wuaTVuyZQUwl",
    "outputId": "79ecebab-08a1-4175-e988-19553397f599"
   },
   "outputs": [
    {
     "data": {
      "text/html": [
       "<div>\n",
       "<style scoped>\n",
       "    .dataframe tbody tr th:only-of-type {\n",
       "        vertical-align: middle;\n",
       "    }\n",
       "\n",
       "    .dataframe tbody tr th {\n",
       "        vertical-align: top;\n",
       "    }\n",
       "\n",
       "    .dataframe thead th {\n",
       "        text-align: right;\n",
       "    }\n",
       "</style>\n",
       "<table border=\"1\" class=\"dataframe\">\n",
       "  <thead>\n",
       "    <tr style=\"text-align: right;\">\n",
       "      <th></th>\n",
       "      <th>userID</th>\n",
       "      <th>itemID</th>\n",
       "      <th>order</th>\n",
       "      <th>day</th>\n",
       "      <th>month</th>\n",
       "      <th>year</th>\n",
       "      <th>week</th>\n",
       "    </tr>\n",
       "  </thead>\n",
       "  <tbody>\n",
       "    <tr>\n",
       "      <th>819667</th>\n",
       "      <td>0</td>\n",
       "      <td>6446</td>\n",
       "      <td>1</td>\n",
       "      <td>11</td>\n",
       "      <td>12</td>\n",
       "      <td>2020</td>\n",
       "      <td>2</td>\n",
       "    </tr>\n",
       "    <tr>\n",
       "      <th>978365</th>\n",
       "      <td>0</td>\n",
       "      <td>6446</td>\n",
       "      <td>1</td>\n",
       "      <td>15</td>\n",
       "      <td>1</td>\n",
       "      <td>2021</td>\n",
       "      <td>3</td>\n",
       "    </tr>\n",
       "    <tr>\n",
       "      <th>22146</th>\n",
       "      <td>0</td>\n",
       "      <td>20664</td>\n",
       "      <td>1</td>\n",
       "      <td>5</td>\n",
       "      <td>6</td>\n",
       "      <td>2020</td>\n",
       "      <td>1</td>\n",
       "    </tr>\n",
       "    <tr>\n",
       "      <th>540881</th>\n",
       "      <td>0</td>\n",
       "      <td>20664</td>\n",
       "      <td>1</td>\n",
       "      <td>9</td>\n",
       "      <td>10</td>\n",
       "      <td>2020</td>\n",
       "      <td>2</td>\n",
       "    </tr>\n",
       "    <tr>\n",
       "      <th>819668</th>\n",
       "      <td>0</td>\n",
       "      <td>20664</td>\n",
       "      <td>1</td>\n",
       "      <td>11</td>\n",
       "      <td>12</td>\n",
       "      <td>2020</td>\n",
       "      <td>2</td>\n",
       "    </tr>\n",
       "    <tr>\n",
       "      <th>709720</th>\n",
       "      <td>0</td>\n",
       "      <td>28231</td>\n",
       "      <td>1</td>\n",
       "      <td>20</td>\n",
       "      <td>11</td>\n",
       "      <td>2020</td>\n",
       "      <td>3</td>\n",
       "    </tr>\n",
       "    <tr>\n",
       "      <th>819666</th>\n",
       "      <td>0</td>\n",
       "      <td>28231</td>\n",
       "      <td>1</td>\n",
       "      <td>11</td>\n",
       "      <td>12</td>\n",
       "      <td>2020</td>\n",
       "      <td>2</td>\n",
       "    </tr>\n",
       "    <tr>\n",
       "      <th>1031088</th>\n",
       "      <td>0</td>\n",
       "      <td>28231</td>\n",
       "      <td>2</td>\n",
       "      <td>25</td>\n",
       "      <td>1</td>\n",
       "      <td>2021</td>\n",
       "      <td>4</td>\n",
       "    </tr>\n",
       "  </tbody>\n",
       "</table>\n",
       "</div>"
      ],
      "text/plain": [
       "         userID  itemID  order  day  month  year  week\n",
       "819667        0    6446      1   11     12  2020     2\n",
       "978365        0    6446      1   15      1  2021     3\n",
       "22146         0   20664      1    5      6  2020     1\n",
       "540881        0   20664      1    9     10  2020     2\n",
       "819668        0   20664      1   11     12  2020     2\n",
       "709720        0   28231      1   20     11  2020     3\n",
       "819666        0   28231      1   11     12  2020     2\n",
       "1031088       0   28231      2   25      1  2021     4"
      ]
     },
     "execution_count": 55,
     "metadata": {},
     "output_type": "execute_result"
    }
   ],
   "source": [
    "# user membeli item apa yang dibeli berulang-ulang?\n",
    "df_cyclical = df_orders_2[df_orders_2.duplicated(subset = ['userID', 'itemID'], keep = False)]\n",
    "\n",
    "# Sebagai contoh misal pada userID 0\n",
    "df_cyclical[(df_cyclical['userID'] == 0)].sort_values(by = 'itemID')"
   ]
  },
  {
   "cell_type": "markdown",
   "metadata": {
    "id": "ohRWtqSj21El"
   },
   "source": [
    "Pada user dengan ID = 0. User ini membeli itemID = 20664 sebanyak 3x yaitu pada minggu ke 2 (2x) dan minggu ke 1 (1x). Sehingga ada kemungkinan barang harus sudah diisi kembali pada minggu ke 1 atau minggu ke 2"
   ]
  },
  {
   "cell_type": "code",
   "execution_count": 56,
   "metadata": {
    "colab": {
     "base_uri": "https://localhost:8080/",
     "height": 363
    },
    "id": "h7IIe2Ff5C6d",
    "outputId": "22a80ea1-a5a9-4336-e38c-452a57b7d824"
   },
   "outputs": [
    {
     "data": {
      "text/html": [
       "<div>\n",
       "<style scoped>\n",
       "    .dataframe tbody tr th:only-of-type {\n",
       "        vertical-align: middle;\n",
       "    }\n",
       "\n",
       "    .dataframe tbody tr th {\n",
       "        vertical-align: top;\n",
       "    }\n",
       "\n",
       "    .dataframe thead th {\n",
       "        text-align: right;\n",
       "    }\n",
       "</style>\n",
       "<table border=\"1\" class=\"dataframe\">\n",
       "  <thead>\n",
       "    <tr style=\"text-align: right;\">\n",
       "      <th></th>\n",
       "      <th>userID</th>\n",
       "      <th>itemID</th>\n",
       "      <th>order</th>\n",
       "      <th>day</th>\n",
       "      <th>month</th>\n",
       "      <th>year</th>\n",
       "      <th>week</th>\n",
       "    </tr>\n",
       "  </thead>\n",
       "  <tbody>\n",
       "    <tr>\n",
       "      <th>390966</th>\n",
       "      <td>0</td>\n",
       "      <td>1505</td>\n",
       "      <td>1</td>\n",
       "      <td>1</td>\n",
       "      <td>9</td>\n",
       "      <td>2020</td>\n",
       "      <td>1</td>\n",
       "    </tr>\n",
       "    <tr>\n",
       "      <th>709719</th>\n",
       "      <td>0</td>\n",
       "      <td>9325</td>\n",
       "      <td>1</td>\n",
       "      <td>20</td>\n",
       "      <td>11</td>\n",
       "      <td>2020</td>\n",
       "      <td>3</td>\n",
       "    </tr>\n",
       "    <tr>\n",
       "      <th>268197</th>\n",
       "      <td>0</td>\n",
       "      <td>12468</td>\n",
       "      <td>1</td>\n",
       "      <td>3</td>\n",
       "      <td>8</td>\n",
       "      <td>2020</td>\n",
       "      <td>1</td>\n",
       "    </tr>\n",
       "    <tr>\n",
       "      <th>334333</th>\n",
       "      <td>0</td>\n",
       "      <td>12505</td>\n",
       "      <td>1</td>\n",
       "      <td>18</td>\n",
       "      <td>8</td>\n",
       "      <td>2020</td>\n",
       "      <td>3</td>\n",
       "    </tr>\n",
       "    <tr>\n",
       "      <th>1031053</th>\n",
       "      <td>0</td>\n",
       "      <td>13146</td>\n",
       "      <td>2</td>\n",
       "      <td>25</td>\n",
       "      <td>1</td>\n",
       "      <td>2021</td>\n",
       "      <td>4</td>\n",
       "    </tr>\n",
       "    <tr>\n",
       "      <th>268196</th>\n",
       "      <td>0</td>\n",
       "      <td>15083</td>\n",
       "      <td>1</td>\n",
       "      <td>3</td>\n",
       "      <td>8</td>\n",
       "      <td>2020</td>\n",
       "      <td>1</td>\n",
       "    </tr>\n",
       "    <tr>\n",
       "      <th>540880</th>\n",
       "      <td>0</td>\n",
       "      <td>26387</td>\n",
       "      <td>1</td>\n",
       "      <td>9</td>\n",
       "      <td>10</td>\n",
       "      <td>2020</td>\n",
       "      <td>2</td>\n",
       "    </tr>\n",
       "    <tr>\n",
       "      <th>978366</th>\n",
       "      <td>0</td>\n",
       "      <td>29956</td>\n",
       "      <td>1</td>\n",
       "      <td>15</td>\n",
       "      <td>1</td>\n",
       "      <td>2021</td>\n",
       "      <td>3</td>\n",
       "    </tr>\n",
       "    <tr>\n",
       "      <th>779709</th>\n",
       "      <td>0</td>\n",
       "      <td>31683</td>\n",
       "      <td>1</td>\n",
       "      <td>4</td>\n",
       "      <td>12</td>\n",
       "      <td>2020</td>\n",
       "      <td>1</td>\n",
       "    </tr>\n",
       "    <tr>\n",
       "      <th>779710</th>\n",
       "      <td>0</td>\n",
       "      <td>31923</td>\n",
       "      <td>1</td>\n",
       "      <td>4</td>\n",
       "      <td>12</td>\n",
       "      <td>2020</td>\n",
       "      <td>1</td>\n",
       "    </tr>\n",
       "  </tbody>\n",
       "</table>\n",
       "</div>"
      ],
      "text/plain": [
       "         userID  itemID  order  day  month  year  week\n",
       "390966        0    1505      1    1      9  2020     1\n",
       "709719        0    9325      1   20     11  2020     3\n",
       "268197        0   12468      1    3      8  2020     1\n",
       "334333        0   12505      1   18      8  2020     3\n",
       "1031053       0   13146      2   25      1  2021     4\n",
       "268196        0   15083      1    3      8  2020     1\n",
       "540880        0   26387      1    9     10  2020     2\n",
       "978366        0   29956      1   15      1  2021     3\n",
       "779709        0   31683      1    4     12  2020     1\n",
       "779710        0   31923      1    4     12  2020     1"
      ]
     },
     "execution_count": 56,
     "metadata": {},
     "output_type": "execute_result"
    }
   ],
   "source": [
    "# user membeli item apa yang tidak dilakukan berulang? (hanya 1x beli)\n",
    "df_not_cyclical = df_orders_2[~df_orders_2.duplicated(subset = ['userID', 'itemID'], keep = False)]\n",
    "\n",
    "# Sebagai contoh misal pada userID 0\n",
    "df_not_cyclical[(df_not_cyclical['userID'] == 0)].sort_values(by = 'itemID')"
   ]
  },
  {
   "cell_type": "markdown",
   "metadata": {
    "id": "QUzR2pqP_5kb"
   },
   "source": [
    "Pada user dengan ID = 0. User ini membeli itemID = 1505 hanya 1x sehingga kemungkinan tidak ada pola pembelian yang dapat diambil."
   ]
  },
  {
   "cell_type": "markdown",
   "metadata": {
    "id": "37zgck2xLWEe"
   },
   "source": [
    "## 3.4.Pelabelan Data Replenishment"
   ]
  },
  {
   "cell_type": "code",
   "execution_count": 57,
   "metadata": {
    "colab": {
     "base_uri": "https://localhost:8080/",
     "height": 424
    },
    "id": "wdL6Slp0ApYT",
    "outputId": "05642663-825f-401b-8a8d-3566687eaa49"
   },
   "outputs": [
    {
     "data": {
      "text/html": [
       "<div>\n",
       "<style scoped>\n",
       "    .dataframe tbody tr th:only-of-type {\n",
       "        vertical-align: middle;\n",
       "    }\n",
       "\n",
       "    .dataframe tbody tr th {\n",
       "        vertical-align: top;\n",
       "    }\n",
       "\n",
       "    .dataframe thead th {\n",
       "        text-align: right;\n",
       "    }\n",
       "</style>\n",
       "<table border=\"1\" class=\"dataframe\">\n",
       "  <thead>\n",
       "    <tr style=\"text-align: right;\">\n",
       "      <th></th>\n",
       "      <th>userID</th>\n",
       "      <th>itemID</th>\n",
       "      <th>order</th>\n",
       "      <th>day</th>\n",
       "      <th>month</th>\n",
       "      <th>year</th>\n",
       "      <th>week</th>\n",
       "      <th>replenishment</th>\n",
       "    </tr>\n",
       "  </thead>\n",
       "  <tbody>\n",
       "    <tr>\n",
       "      <th>0</th>\n",
       "      <td>38769</td>\n",
       "      <td>3477</td>\n",
       "      <td>1</td>\n",
       "      <td>1</td>\n",
       "      <td>6</td>\n",
       "      <td>2020</td>\n",
       "      <td>1</td>\n",
       "      <td>0</td>\n",
       "    </tr>\n",
       "    <tr>\n",
       "      <th>1</th>\n",
       "      <td>42535</td>\n",
       "      <td>30474</td>\n",
       "      <td>1</td>\n",
       "      <td>1</td>\n",
       "      <td>6</td>\n",
       "      <td>2020</td>\n",
       "      <td>1</td>\n",
       "      <td>0</td>\n",
       "    </tr>\n",
       "    <tr>\n",
       "      <th>2</th>\n",
       "      <td>42535</td>\n",
       "      <td>15833</td>\n",
       "      <td>1</td>\n",
       "      <td>1</td>\n",
       "      <td>6</td>\n",
       "      <td>2020</td>\n",
       "      <td>1</td>\n",
       "      <td>0</td>\n",
       "    </tr>\n",
       "    <tr>\n",
       "      <th>3</th>\n",
       "      <td>42535</td>\n",
       "      <td>20131</td>\n",
       "      <td>1</td>\n",
       "      <td>1</td>\n",
       "      <td>6</td>\n",
       "      <td>2020</td>\n",
       "      <td>1</td>\n",
       "      <td>0</td>\n",
       "    </tr>\n",
       "    <tr>\n",
       "      <th>4</th>\n",
       "      <td>42535</td>\n",
       "      <td>4325</td>\n",
       "      <td>1</td>\n",
       "      <td>1</td>\n",
       "      <td>6</td>\n",
       "      <td>2020</td>\n",
       "      <td>1</td>\n",
       "      <td>0</td>\n",
       "    </tr>\n",
       "    <tr>\n",
       "      <th>...</th>\n",
       "      <td>...</td>\n",
       "      <td>...</td>\n",
       "      <td>...</td>\n",
       "      <td>...</td>\n",
       "      <td>...</td>\n",
       "      <td>...</td>\n",
       "      <td>...</td>\n",
       "      <td>...</td>\n",
       "    </tr>\n",
       "    <tr>\n",
       "      <th>1071533</th>\n",
       "      <td>22114</td>\n",
       "      <td>29567</td>\n",
       "      <td>2</td>\n",
       "      <td>31</td>\n",
       "      <td>1</td>\n",
       "      <td>2021</td>\n",
       "      <td>4</td>\n",
       "      <td>0</td>\n",
       "    </tr>\n",
       "    <tr>\n",
       "      <th>1071534</th>\n",
       "      <td>22114</td>\n",
       "      <td>21068</td>\n",
       "      <td>1</td>\n",
       "      <td>31</td>\n",
       "      <td>1</td>\n",
       "      <td>2021</td>\n",
       "      <td>4</td>\n",
       "      <td>0</td>\n",
       "    </tr>\n",
       "    <tr>\n",
       "      <th>1071535</th>\n",
       "      <td>10900</td>\n",
       "      <td>18270</td>\n",
       "      <td>1</td>\n",
       "      <td>31</td>\n",
       "      <td>1</td>\n",
       "      <td>2021</td>\n",
       "      <td>4</td>\n",
       "      <td>0</td>\n",
       "    </tr>\n",
       "    <tr>\n",
       "      <th>1071536</th>\n",
       "      <td>17894</td>\n",
       "      <td>31265</td>\n",
       "      <td>5</td>\n",
       "      <td>31</td>\n",
       "      <td>1</td>\n",
       "      <td>2021</td>\n",
       "      <td>4</td>\n",
       "      <td>0</td>\n",
       "    </tr>\n",
       "    <tr>\n",
       "      <th>1071537</th>\n",
       "      <td>25974</td>\n",
       "      <td>17983</td>\n",
       "      <td>1</td>\n",
       "      <td>31</td>\n",
       "      <td>1</td>\n",
       "      <td>2021</td>\n",
       "      <td>4</td>\n",
       "      <td>0</td>\n",
       "    </tr>\n",
       "  </tbody>\n",
       "</table>\n",
       "<p>1071538 rows × 8 columns</p>\n",
       "</div>"
      ],
      "text/plain": [
       "         userID  itemID  order  day  month  year  week  replenishment\n",
       "0         38769    3477      1    1      6  2020     1              0\n",
       "1         42535   30474      1    1      6  2020     1              0\n",
       "2         42535   15833      1    1      6  2020     1              0\n",
       "3         42535   20131      1    1      6  2020     1              0\n",
       "4         42535    4325      1    1      6  2020     1              0\n",
       "...         ...     ...    ...  ...    ...   ...   ...            ...\n",
       "1071533   22114   29567      2   31      1  2021     4              0\n",
       "1071534   22114   21068      1   31      1  2021     4              0\n",
       "1071535   10900   18270      1   31      1  2021     4              0\n",
       "1071536   17894   31265      5   31      1  2021     4              0\n",
       "1071537   25974   17983      1   31      1  2021     4              0\n",
       "\n",
       "[1071538 rows x 8 columns]"
      ]
     },
     "execution_count": 57,
     "metadata": {},
     "output_type": "execute_result"
    }
   ],
   "source": [
    "# Membuat kolom replenishment sebagai prediksi apakah barang tertentu harus diisi lagi pada minggu keberapa berdasarkan pola user\n",
    "\n",
    "df_cyclical['replenishment'] =  df_cyclical['week']\n",
    "df_not_cyclical['replenishment'] = np.zeros(len(df_not_cyclical), dtype = 'int')\n",
    "df_orders_3 = pd.concat([df_cyclical,df_not_cyclical]).sort_index()\n",
    "df_orders_3"
   ]
  },
  {
   "cell_type": "code",
   "execution_count": 58,
   "metadata": {
    "colab": {
     "base_uri": "https://localhost:8080/"
    },
    "id": "aINBvA44KOjC",
    "outputId": "44124505-bb11-4a10-cd75-d54a65ed96aa"
   },
   "outputs": [
    {
     "data": {
      "text/plain": [
       "replenishment\n",
       "0    782810\n",
       "4     90626\n",
       "2     68200\n",
       "3     65510\n",
       "1     64392\n",
       "Name: count, dtype: int64"
      ]
     },
     "execution_count": 58,
     "metadata": {},
     "output_type": "execute_result"
    }
   ],
   "source": [
    "df_orders_3['replenishment'].value_counts()"
   ]
  },
  {
   "cell_type": "markdown",
   "metadata": {
    "id": "lLmxVdHCorM3"
   },
   "source": [
    "## 3.5.Klasterisasi Data Item"
   ]
  },
  {
   "cell_type": "code",
   "execution_count": 59,
   "metadata": {
    "colab": {
     "base_uri": "https://localhost:8080/",
     "height": 424
    },
    "id": "nGltQmzns5PR",
    "outputId": "a4cf8a6d-6195-4aa9-dd2d-5abd95f2d523"
   },
   "outputs": [
    {
     "data": {
      "text/html": [
       "<div>\n",
       "<style scoped>\n",
       "    .dataframe tbody tr th:only-of-type {\n",
       "        vertical-align: middle;\n",
       "    }\n",
       "\n",
       "    .dataframe tbody tr th {\n",
       "        vertical-align: top;\n",
       "    }\n",
       "\n",
       "    .dataframe thead th {\n",
       "        text-align: right;\n",
       "    }\n",
       "</style>\n",
       "<table border=\"1\" class=\"dataframe\">\n",
       "  <thead>\n",
       "    <tr style=\"text-align: right;\">\n",
       "      <th></th>\n",
       "      <th>itemID</th>\n",
       "      <th>brand</th>\n",
       "      <th>feature_1</th>\n",
       "      <th>feature_2</th>\n",
       "      <th>feature_3</th>\n",
       "      <th>feature_4</th>\n",
       "      <th>feature_5</th>\n",
       "      <th>categories</th>\n",
       "    </tr>\n",
       "  </thead>\n",
       "  <tbody>\n",
       "    <tr>\n",
       "      <th>0</th>\n",
       "      <td>22665</td>\n",
       "      <td>861</td>\n",
       "      <td>4</td>\n",
       "      <td>0</td>\n",
       "      <td>490</td>\n",
       "      <td>2</td>\n",
       "      <td>66</td>\n",
       "      <td>[2890, 855, 3908, 3909]</td>\n",
       "    </tr>\n",
       "    <tr>\n",
       "      <th>1</th>\n",
       "      <td>28640</td>\n",
       "      <td>1366</td>\n",
       "      <td>10</td>\n",
       "      <td>1</td>\n",
       "      <td>537</td>\n",
       "      <td>0</td>\n",
       "      <td>101</td>\n",
       "      <td>NaN</td>\n",
       "    </tr>\n",
       "    <tr>\n",
       "      <th>2</th>\n",
       "      <td>13526</td>\n",
       "      <td>1090</td>\n",
       "      <td>10</td>\n",
       "      <td>0</td>\n",
       "      <td>511</td>\n",
       "      <td>0</td>\n",
       "      <td>0</td>\n",
       "      <td>[3270, 163, 284, 1694, 12, 3837, 2422, 3595, 3...</td>\n",
       "    </tr>\n",
       "    <tr>\n",
       "      <th>3</th>\n",
       "      <td>21399</td>\n",
       "      <td>1090</td>\n",
       "      <td>10</td>\n",
       "      <td>1</td>\n",
       "      <td>511</td>\n",
       "      <td>0</td>\n",
       "      <td>0</td>\n",
       "      <td>[3270]</td>\n",
       "    </tr>\n",
       "    <tr>\n",
       "      <th>4</th>\n",
       "      <td>8504</td>\n",
       "      <td>768</td>\n",
       "      <td>4</td>\n",
       "      <td>1</td>\n",
       "      <td>484</td>\n",
       "      <td>0</td>\n",
       "      <td>66</td>\n",
       "      <td>[2470]</td>\n",
       "    </tr>\n",
       "    <tr>\n",
       "      <th>...</th>\n",
       "      <td>...</td>\n",
       "      <td>...</td>\n",
       "      <td>...</td>\n",
       "      <td>...</td>\n",
       "      <td>...</td>\n",
       "      <td>...</td>\n",
       "      <td>...</td>\n",
       "      <td>...</td>\n",
       "    </tr>\n",
       "    <tr>\n",
       "      <th>32771</th>\n",
       "      <td>12036</td>\n",
       "      <td>1383</td>\n",
       "      <td>10</td>\n",
       "      <td>0</td>\n",
       "      <td>503</td>\n",
       "      <td>0</td>\n",
       "      <td>101</td>\n",
       "      <td>[3502, 1088, 2004, 691, 3422, 2308, 308, 3688,...</td>\n",
       "    </tr>\n",
       "    <tr>\n",
       "      <th>32772</th>\n",
       "      <td>22709</td>\n",
       "      <td>567</td>\n",
       "      <td>4</td>\n",
       "      <td>2</td>\n",
       "      <td>491</td>\n",
       "      <td>3</td>\n",
       "      <td>66</td>\n",
       "      <td>[3900, 3905, 3903, 3910, 1807, 274, 1467, 914]</td>\n",
       "    </tr>\n",
       "    <tr>\n",
       "      <th>32773</th>\n",
       "      <td>32322</td>\n",
       "      <td>1385</td>\n",
       "      <td>10</td>\n",
       "      <td>1</td>\n",
       "      <td>500</td>\n",
       "      <td>0</td>\n",
       "      <td>37</td>\n",
       "      <td>[2686, 2609, 725]</td>\n",
       "    </tr>\n",
       "    <tr>\n",
       "      <th>32774</th>\n",
       "      <td>19118</td>\n",
       "      <td>1113</td>\n",
       "      <td>6</td>\n",
       "      <td>2</td>\n",
       "      <td>491</td>\n",
       "      <td>0</td>\n",
       "      <td>117</td>\n",
       "      <td>[3900, 3910, 3903, 2473, 914, 274]</td>\n",
       "    </tr>\n",
       "    <tr>\n",
       "      <th>32775</th>\n",
       "      <td>16083</td>\n",
       "      <td>1111</td>\n",
       "      <td>4</td>\n",
       "      <td>3</td>\n",
       "      <td>485</td>\n",
       "      <td>3</td>\n",
       "      <td>16</td>\n",
       "      <td>[3900, 3901, 3905, 3902, 3903, 3910, 2473, 2470]</td>\n",
       "    </tr>\n",
       "  </tbody>\n",
       "</table>\n",
       "<p>32776 rows × 8 columns</p>\n",
       "</div>"
      ],
      "text/plain": [
       "       itemID  brand  feature_1  feature_2  feature_3  feature_4  feature_5  \\\n",
       "0       22665    861          4          0        490          2         66   \n",
       "1       28640   1366         10          1        537          0        101   \n",
       "2       13526   1090         10          0        511          0          0   \n",
       "3       21399   1090         10          1        511          0          0   \n",
       "4        8504    768          4          1        484          0         66   \n",
       "...       ...    ...        ...        ...        ...        ...        ...   \n",
       "32771   12036   1383         10          0        503          0        101   \n",
       "32772   22709    567          4          2        491          3         66   \n",
       "32773   32322   1385         10          1        500          0         37   \n",
       "32774   19118   1113          6          2        491          0        117   \n",
       "32775   16083   1111          4          3        485          3         16   \n",
       "\n",
       "                                              categories  \n",
       "0                                [2890, 855, 3908, 3909]  \n",
       "1                                                    NaN  \n",
       "2      [3270, 163, 284, 1694, 12, 3837, 2422, 3595, 3...  \n",
       "3                                                 [3270]  \n",
       "4                                                 [2470]  \n",
       "...                                                  ...  \n",
       "32771  [3502, 1088, 2004, 691, 3422, 2308, 308, 3688,...  \n",
       "32772     [3900, 3905, 3903, 3910, 1807, 274, 1467, 914]  \n",
       "32773                                  [2686, 2609, 725]  \n",
       "32774                 [3900, 3910, 3903, 2473, 914, 274]  \n",
       "32775   [3900, 3901, 3905, 3902, 3903, 3910, 2473, 2470]  \n",
       "\n",
       "[32776 rows x 8 columns]"
      ]
     },
     "execution_count": 59,
     "metadata": {},
     "output_type": "execute_result"
    }
   ],
   "source": [
    "# preview dataset item\n",
    "df_items"
   ]
  },
  {
   "cell_type": "code",
   "execution_count": 60,
   "metadata": {
    "colab": {
     "base_uri": "https://localhost:8080/",
     "height": 206
    },
    "id": "O378pOwwJiiy",
    "outputId": "7db6b1e9-6f2d-49b2-ba8d-5b1f73067abd"
   },
   "outputs": [
    {
     "data": {
      "text/html": [
       "<div>\n",
       "<style scoped>\n",
       "    .dataframe tbody tr th:only-of-type {\n",
       "        vertical-align: middle;\n",
       "    }\n",
       "\n",
       "    .dataframe tbody tr th {\n",
       "        vertical-align: top;\n",
       "    }\n",
       "\n",
       "    .dataframe thead th {\n",
       "        text-align: right;\n",
       "    }\n",
       "</style>\n",
       "<table border=\"1\" class=\"dataframe\">\n",
       "  <thead>\n",
       "    <tr style=\"text-align: right;\">\n",
       "      <th></th>\n",
       "      <th>feature_1</th>\n",
       "      <th>feature_2</th>\n",
       "      <th>feature_3</th>\n",
       "      <th>feature_4</th>\n",
       "      <th>feature_5</th>\n",
       "    </tr>\n",
       "  </thead>\n",
       "  <tbody>\n",
       "    <tr>\n",
       "      <th>0</th>\n",
       "      <td>4</td>\n",
       "      <td>0</td>\n",
       "      <td>490</td>\n",
       "      <td>2</td>\n",
       "      <td>66</td>\n",
       "    </tr>\n",
       "    <tr>\n",
       "      <th>1</th>\n",
       "      <td>10</td>\n",
       "      <td>1</td>\n",
       "      <td>537</td>\n",
       "      <td>0</td>\n",
       "      <td>101</td>\n",
       "    </tr>\n",
       "    <tr>\n",
       "      <th>2</th>\n",
       "      <td>10</td>\n",
       "      <td>0</td>\n",
       "      <td>511</td>\n",
       "      <td>0</td>\n",
       "      <td>0</td>\n",
       "    </tr>\n",
       "    <tr>\n",
       "      <th>3</th>\n",
       "      <td>10</td>\n",
       "      <td>1</td>\n",
       "      <td>511</td>\n",
       "      <td>0</td>\n",
       "      <td>0</td>\n",
       "    </tr>\n",
       "    <tr>\n",
       "      <th>4</th>\n",
       "      <td>4</td>\n",
       "      <td>1</td>\n",
       "      <td>484</td>\n",
       "      <td>0</td>\n",
       "      <td>66</td>\n",
       "    </tr>\n",
       "  </tbody>\n",
       "</table>\n",
       "</div>"
      ],
      "text/plain": [
       "   feature_1  feature_2  feature_3  feature_4  feature_5\n",
       "0          4          0        490          2         66\n",
       "1         10          1        537          0        101\n",
       "2         10          0        511          0          0\n",
       "3         10          1        511          0          0\n",
       "4          4          1        484          0         66"
      ]
     },
     "execution_count": 60,
     "metadata": {},
     "output_type": "execute_result"
    }
   ],
   "source": [
    "# Drop kolom categories, itemID dan brand karena disini kita akan mengelompokkan item berdasarkan data feature\n",
    "df_items_2 = df_items.drop(columns = ['categories', 'itemID', 'brand'])\n",
    "df_items_2.head()"
   ]
  },
  {
   "cell_type": "code",
   "execution_count": 61,
   "metadata": {
    "colab": {
     "base_uri": "https://localhost:8080/"
    },
    "id": "qJeavA4OKCMb",
    "outputId": "45b5ac31-4192-4dc4-f80f-40eca4e65ea2"
   },
   "outputs": [
    {
     "name": "stdout",
     "output_type": "stream",
     "text": [
      "<class 'pandas.core.frame.DataFrame'>\n",
      "RangeIndex: 32776 entries, 0 to 32775\n",
      "Data columns (total 5 columns):\n",
      " #   Column     Non-Null Count  Dtype\n",
      "---  ------     --------------  -----\n",
      " 0   feature_1  32776 non-null  int64\n",
      " 1   feature_2  32776 non-null  int64\n",
      " 2   feature_3  32776 non-null  int64\n",
      " 3   feature_4  32776 non-null  int64\n",
      " 4   feature_5  32776 non-null  int64\n",
      "dtypes: int64(5)\n",
      "memory usage: 1.3 MB\n"
     ]
    }
   ],
   "source": [
    "# melihat info data yang akan diklaster\n",
    "df_items_2.info()"
   ]
  },
  {
   "cell_type": "code",
   "execution_count": 62,
   "metadata": {
    "colab": {
     "base_uri": "https://localhost:8080/"
    },
    "id": "V4Jpx3qSMXcn",
    "outputId": "25674022-1e8e-45bd-d2f8-919e3f8b3ff7"
   },
   "outputs": [
    {
     "data": {
      "text/plain": [
       "array([[0.45454545, 0.        , 0.9109462 , 0.6       , 0.35078534],\n",
       "       [1.        , 0.33333333, 0.99814471, 0.2       , 0.53403141],\n",
       "       [1.        , 0.        , 0.94990724, 0.2       , 0.0052356 ],\n",
       "       ...,\n",
       "       [1.        , 0.33333333, 0.92949907, 0.2       , 0.19895288],\n",
       "       [0.63636364, 0.66666667, 0.91280148, 0.2       , 0.61780105],\n",
       "       [0.45454545, 1.        , 0.90166976, 0.8       , 0.08900524]])"
      ]
     },
     "execution_count": 62,
     "metadata": {},
     "output_type": "execute_result"
    }
   ],
   "source": [
    "# Normalisasi Data\n",
    "from sklearn.preprocessing import MinMaxScaler\n",
    "scaler = MinMaxScaler()\n",
    "scaler.fit(df_items_2)\n",
    "df_items_3 = scaler.transform(df_items_2)\n",
    "df_items_3"
   ]
  },
  {
   "cell_type": "code",
   "execution_count": 63,
   "metadata": {
    "colab": {
     "base_uri": "https://localhost:8080/",
     "height": 296
    },
    "id": "P4i4VqhgNSTN",
    "outputId": "3002e062-728d-4e30-87a1-9d93de7af7a5"
   },
   "outputs": [
    {
     "data": {
      "image/png": "[encoded data removed]",
      "text/plain": [
       "<Figure size 640x480 with 1 Axes>"
      ]
     },
     "metadata": {},
     "output_type": "display_data"
    }
   ],
   "source": [
    "# Reduksi Dimensi dengan PCA\n",
    "from sklearn.decomposition import PCA\n",
    "\n",
    "pca = PCA(n_components=2)\n",
    "pca.fit(df_items_3)\n",
    "PCA_data = pd.DataFrame(pca.transform(df_items_3), columns=([\"fitur_1\",\"fitur_2\"]))\n",
    "PCA_data.plot.scatter(x = 'fitur_1',y = 'fitur_2', c=np.array([0.1,0.4,0.8]).reshape(1,-1))\n",
    "plt.title(\"Visualisasi Hasil Reduksi Dimensi menjadi 2 Fitur\")\n",
    "plt.show()"
   ]
  },
  {
   "cell_type": "code",
   "execution_count": 67,
   "metadata": {
    "colab": {
     "base_uri": "https://localhost:8080/",
     "height": 376
    },
    "id": "w0V0nI3ON52E",
    "outputId": "f0bd3f58-a688-4bbd-fdec-74ddeb287670"
   },
   "outputs": [
    {
     "data": {
      "image/png": "[encoded data removed]",
      "text/plain": [
       "<Figure size 800x550 with 2 Axes>"
      ]
     },
     "metadata": {},
     "output_type": "display_data"
    }
   ],
   "source": [
    "# Penentuan Jumlah Klaster\n",
    "from yellowbrick.cluster import KElbowVisualizer\n",
    "from sklearn.cluster import KMeans\n",
    "elbowMethod = KElbowVisualizer(KMeans(), k=10, metric = \"distortion\")\n",
    "elbowMethod.fit(PCA_data)\n",
    "elbowMethod.show()\n",
    "plt.show()"
   ]
  },
  {
   "cell_type": "code",
   "execution_count": 68,
   "metadata": {
    "colab": {
     "base_uri": "https://localhost:8080/",
     "height": 362
    },
    "id": "49L1b6iZONwt",
    "outputId": "218d2939-bcd3-4dcf-8a3d-8f6e7eb9ee8c"
   },
   "outputs": [
    {
     "data": {
      "image/png": "[encoded data removed]",
      "text/plain": [
       "<Figure size 800x550 with 1 Axes>"
      ]
     },
     "metadata": {},
     "output_type": "display_data"
    }
   ],
   "source": [
    "# Hasil Klaster\n",
    "KM = KMeans(n_clusters=4)\n",
    "predictKM = KM.fit_predict(PCA_data)\n",
    "PCA_data[\"clusters\"] = predictKM\n",
    "\n",
    "plt.title(\"Hasil Klastering\")\n",
    "plt.scatter(PCA_data[\"fitur_1\"],PCA_data[\"fitur_2\"], s=40, c=PCA_data[\"clusters\"], marker='o',cmap = 'viridis')\n",
    "plt.show()"
   ]
  },
  {
   "cell_type": "code",
   "execution_count": 69,
   "metadata": {
    "colab": {
     "base_uri": "https://localhost:8080/",
     "height": 206
    },
    "id": "ma1cpnCNO-GC",
    "outputId": "31322fa4-e027-4393-a4d6-9bbd1dcc5b7c"
   },
   "outputs": [
    {
     "data": {
      "text/html": [
       "<div>\n",
       "<style scoped>\n",
       "    .dataframe tbody tr th:only-of-type {\n",
       "        vertical-align: middle;\n",
       "    }\n",
       "\n",
       "    .dataframe tbody tr th {\n",
       "        vertical-align: top;\n",
       "    }\n",
       "\n",
       "    .dataframe thead th {\n",
       "        text-align: right;\n",
       "    }\n",
       "</style>\n",
       "<table border=\"1\" class=\"dataframe\">\n",
       "  <thead>\n",
       "    <tr style=\"text-align: right;\">\n",
       "      <th></th>\n",
       "      <th>itemID</th>\n",
       "      <th>brand</th>\n",
       "      <th>feature_1</th>\n",
       "      <th>feature_2</th>\n",
       "      <th>feature_3</th>\n",
       "      <th>feature_4</th>\n",
       "      <th>feature_5</th>\n",
       "      <th>item_cluster</th>\n",
       "    </tr>\n",
       "  </thead>\n",
       "  <tbody>\n",
       "    <tr>\n",
       "      <th>0</th>\n",
       "      <td>22665</td>\n",
       "      <td>861</td>\n",
       "      <td>4</td>\n",
       "      <td>0</td>\n",
       "      <td>490</td>\n",
       "      <td>2</td>\n",
       "      <td>66</td>\n",
       "      <td>1</td>\n",
       "    </tr>\n",
       "    <tr>\n",
       "      <th>1</th>\n",
       "      <td>28640</td>\n",
       "      <td>1366</td>\n",
       "      <td>10</td>\n",
       "      <td>1</td>\n",
       "      <td>537</td>\n",
       "      <td>0</td>\n",
       "      <td>101</td>\n",
       "      <td>2</td>\n",
       "    </tr>\n",
       "    <tr>\n",
       "      <th>2</th>\n",
       "      <td>13526</td>\n",
       "      <td>1090</td>\n",
       "      <td>10</td>\n",
       "      <td>0</td>\n",
       "      <td>511</td>\n",
       "      <td>0</td>\n",
       "      <td>0</td>\n",
       "      <td>0</td>\n",
       "    </tr>\n",
       "    <tr>\n",
       "      <th>3</th>\n",
       "      <td>21399</td>\n",
       "      <td>1090</td>\n",
       "      <td>10</td>\n",
       "      <td>1</td>\n",
       "      <td>511</td>\n",
       "      <td>0</td>\n",
       "      <td>0</td>\n",
       "      <td>0</td>\n",
       "    </tr>\n",
       "    <tr>\n",
       "      <th>4</th>\n",
       "      <td>8504</td>\n",
       "      <td>768</td>\n",
       "      <td>4</td>\n",
       "      <td>1</td>\n",
       "      <td>484</td>\n",
       "      <td>0</td>\n",
       "      <td>66</td>\n",
       "      <td>0</td>\n",
       "    </tr>\n",
       "  </tbody>\n",
       "</table>\n",
       "</div>"
      ],
      "text/plain": [
       "   itemID  brand  feature_1  feature_2  feature_3  feature_4  feature_5  \\\n",
       "0   22665    861          4          0        490          2         66   \n",
       "1   28640   1366         10          1        537          0        101   \n",
       "2   13526   1090         10          0        511          0          0   \n",
       "3   21399   1090         10          1        511          0          0   \n",
       "4    8504    768          4          1        484          0         66   \n",
       "\n",
       "   item_cluster  \n",
       "0             1  \n",
       "1             2  \n",
       "2             0  \n",
       "3             0  \n",
       "4             0  "
      ]
     },
     "execution_count": 69,
     "metadata": {},
     "output_type": "execute_result"
    }
   ],
   "source": [
    "# Assign hasil klaster ke data item\n",
    "df_items_klaster = df_items.drop(columns = ['categories']).assign(item_cluster = PCA_data[\"clusters\"])\n",
    "df_items_klaster.head()"
   ]
  },
  {
   "cell_type": "markdown",
   "metadata": {
    "id": "dw7-V2bAmDj7"
   },
   "source": [
    "## 3.6.Penggabungan Data Order dan Data Item"
   ]
  },
  {
   "cell_type": "code",
   "execution_count": 70,
   "metadata": {
    "colab": {
     "base_uri": "https://localhost:8080/",
     "height": 206
    },
    "id": "YVhDiGVsP7GW",
    "outputId": "f08376ea-9160-4106-8b36-840bca6cee78"
   },
   "outputs": [
    {
     "data": {
      "text/html": [
       "<div>\n",
       "<style scoped>\n",
       "    .dataframe tbody tr th:only-of-type {\n",
       "        vertical-align: middle;\n",
       "    }\n",
       "\n",
       "    .dataframe tbody tr th {\n",
       "        vertical-align: top;\n",
       "    }\n",
       "\n",
       "    .dataframe thead th {\n",
       "        text-align: right;\n",
       "    }\n",
       "</style>\n",
       "<table border=\"1\" class=\"dataframe\">\n",
       "  <thead>\n",
       "    <tr style=\"text-align: right;\">\n",
       "      <th></th>\n",
       "      <th>userID</th>\n",
       "      <th>itemID</th>\n",
       "      <th>order</th>\n",
       "      <th>day</th>\n",
       "      <th>month</th>\n",
       "      <th>year</th>\n",
       "      <th>week</th>\n",
       "      <th>replenishment</th>\n",
       "      <th>brand</th>\n",
       "      <th>feature_1</th>\n",
       "      <th>feature_2</th>\n",
       "      <th>feature_3</th>\n",
       "      <th>feature_4</th>\n",
       "      <th>feature_5</th>\n",
       "      <th>item_cluster</th>\n",
       "    </tr>\n",
       "  </thead>\n",
       "  <tbody>\n",
       "    <tr>\n",
       "      <th>0</th>\n",
       "      <td>38769</td>\n",
       "      <td>3477</td>\n",
       "      <td>1</td>\n",
       "      <td>1</td>\n",
       "      <td>6</td>\n",
       "      <td>2020</td>\n",
       "      <td>1</td>\n",
       "      <td>0</td>\n",
       "      <td>186</td>\n",
       "      <td>6</td>\n",
       "      <td>0</td>\n",
       "      <td>196</td>\n",
       "      <td>0</td>\n",
       "      <td>45</td>\n",
       "      <td>1</td>\n",
       "    </tr>\n",
       "    <tr>\n",
       "      <th>1</th>\n",
       "      <td>23570</td>\n",
       "      <td>3477</td>\n",
       "      <td>1</td>\n",
       "      <td>1</td>\n",
       "      <td>6</td>\n",
       "      <td>2020</td>\n",
       "      <td>1</td>\n",
       "      <td>0</td>\n",
       "      <td>186</td>\n",
       "      <td>6</td>\n",
       "      <td>0</td>\n",
       "      <td>196</td>\n",
       "      <td>0</td>\n",
       "      <td>45</td>\n",
       "      <td>1</td>\n",
       "    </tr>\n",
       "    <tr>\n",
       "      <th>2</th>\n",
       "      <td>23495</td>\n",
       "      <td>3477</td>\n",
       "      <td>1</td>\n",
       "      <td>1</td>\n",
       "      <td>6</td>\n",
       "      <td>2020</td>\n",
       "      <td>1</td>\n",
       "      <td>0</td>\n",
       "      <td>186</td>\n",
       "      <td>6</td>\n",
       "      <td>0</td>\n",
       "      <td>196</td>\n",
       "      <td>0</td>\n",
       "      <td>45</td>\n",
       "      <td>1</td>\n",
       "    </tr>\n",
       "    <tr>\n",
       "      <th>3</th>\n",
       "      <td>26073</td>\n",
       "      <td>3477</td>\n",
       "      <td>1</td>\n",
       "      <td>1</td>\n",
       "      <td>6</td>\n",
       "      <td>2020</td>\n",
       "      <td>1</td>\n",
       "      <td>0</td>\n",
       "      <td>186</td>\n",
       "      <td>6</td>\n",
       "      <td>0</td>\n",
       "      <td>196</td>\n",
       "      <td>0</td>\n",
       "      <td>45</td>\n",
       "      <td>1</td>\n",
       "    </tr>\n",
       "    <tr>\n",
       "      <th>4</th>\n",
       "      <td>34302</td>\n",
       "      <td>3477</td>\n",
       "      <td>1</td>\n",
       "      <td>1</td>\n",
       "      <td>6</td>\n",
       "      <td>2020</td>\n",
       "      <td>1</td>\n",
       "      <td>0</td>\n",
       "      <td>186</td>\n",
       "      <td>6</td>\n",
       "      <td>0</td>\n",
       "      <td>196</td>\n",
       "      <td>0</td>\n",
       "      <td>45</td>\n",
       "      <td>1</td>\n",
       "    </tr>\n",
       "  </tbody>\n",
       "</table>\n",
       "</div>"
      ],
      "text/plain": [
       "   userID  itemID  order  day  month  year  week  replenishment  brand  \\\n",
       "0   38769    3477      1    1      6  2020     1              0    186   \n",
       "1   23570    3477      1    1      6  2020     1              0    186   \n",
       "2   23495    3477      1    1      6  2020     1              0    186   \n",
       "3   26073    3477      1    1      6  2020     1              0    186   \n",
       "4   34302    3477      1    1      6  2020     1              0    186   \n",
       "\n",
       "   feature_1  feature_2  feature_3  feature_4  feature_5  item_cluster  \n",
       "0          6          0        196          0         45             1  \n",
       "1          6          0        196          0         45             1  \n",
       "2          6          0        196          0         45             1  \n",
       "3          6          0        196          0         45             1  \n",
       "4          6          0        196          0         45             1  "
      ]
     },
     "execution_count": 70,
     "metadata": {},
     "output_type": "execute_result"
    }
   ],
   "source": [
    "# menggambungkan data order dan data item hasil klaster\n",
    "df_orders_items = pd.merge(df_orders_3, df_items_klaster, on = \"itemID\")\n",
    "df_orders_items.head()"
   ]
  },
  {
   "cell_type": "markdown",
   "metadata": {
    "id": "hTQBg9-cwuPk"
   },
   "source": [
    "## 3.7.Feature Selection"
   ]
  },
  {
   "cell_type": "code",
   "execution_count": 71,
   "metadata": {
    "colab": {
     "base_uri": "https://localhost:8080/",
     "height": 206
    },
    "id": "xA-uquT0wx0U",
    "outputId": "db5bfe66-3151-4996-a45e-889e382bdd65"
   },
   "outputs": [
    {
     "data": {
      "text/html": [
       "<div>\n",
       "<style scoped>\n",
       "    .dataframe tbody tr th:only-of-type {\n",
       "        vertical-align: middle;\n",
       "    }\n",
       "\n",
       "    .dataframe tbody tr th {\n",
       "        vertical-align: top;\n",
       "    }\n",
       "\n",
       "    .dataframe thead th {\n",
       "        text-align: right;\n",
       "    }\n",
       "</style>\n",
       "<table border=\"1\" class=\"dataframe\">\n",
       "  <thead>\n",
       "    <tr style=\"text-align: right;\">\n",
       "      <th></th>\n",
       "      <th>userID</th>\n",
       "      <th>itemID</th>\n",
       "      <th>replenishment</th>\n",
       "      <th>brand</th>\n",
       "      <th>feature_1</th>\n",
       "      <th>feature_2</th>\n",
       "      <th>feature_3</th>\n",
       "      <th>feature_4</th>\n",
       "      <th>feature_5</th>\n",
       "      <th>item_cluster</th>\n",
       "    </tr>\n",
       "  </thead>\n",
       "  <tbody>\n",
       "    <tr>\n",
       "      <th>0</th>\n",
       "      <td>38769</td>\n",
       "      <td>3477</td>\n",
       "      <td>0</td>\n",
       "      <td>186</td>\n",
       "      <td>6</td>\n",
       "      <td>0</td>\n",
       "      <td>196</td>\n",
       "      <td>0</td>\n",
       "      <td>45</td>\n",
       "      <td>1</td>\n",
       "    </tr>\n",
       "    <tr>\n",
       "      <th>1</th>\n",
       "      <td>23570</td>\n",
       "      <td>3477</td>\n",
       "      <td>0</td>\n",
       "      <td>186</td>\n",
       "      <td>6</td>\n",
       "      <td>0</td>\n",
       "      <td>196</td>\n",
       "      <td>0</td>\n",
       "      <td>45</td>\n",
       "      <td>1</td>\n",
       "    </tr>\n",
       "    <tr>\n",
       "      <th>2</th>\n",
       "      <td>23495</td>\n",
       "      <td>3477</td>\n",
       "      <td>0</td>\n",
       "      <td>186</td>\n",
       "      <td>6</td>\n",
       "      <td>0</td>\n",
       "      <td>196</td>\n",
       "      <td>0</td>\n",
       "      <td>45</td>\n",
       "      <td>1</td>\n",
       "    </tr>\n",
       "    <tr>\n",
       "      <th>3</th>\n",
       "      <td>26073</td>\n",
       "      <td>3477</td>\n",
       "      <td>0</td>\n",
       "      <td>186</td>\n",
       "      <td>6</td>\n",
       "      <td>0</td>\n",
       "      <td>196</td>\n",
       "      <td>0</td>\n",
       "      <td>45</td>\n",
       "      <td>1</td>\n",
       "    </tr>\n",
       "    <tr>\n",
       "      <th>4</th>\n",
       "      <td>34302</td>\n",
       "      <td>3477</td>\n",
       "      <td>0</td>\n",
       "      <td>186</td>\n",
       "      <td>6</td>\n",
       "      <td>0</td>\n",
       "      <td>196</td>\n",
       "      <td>0</td>\n",
       "      <td>45</td>\n",
       "      <td>1</td>\n",
       "    </tr>\n",
       "  </tbody>\n",
       "</table>\n",
       "</div>"
      ],
      "text/plain": [
       "   userID  itemID  replenishment  brand  feature_1  feature_2  feature_3  \\\n",
       "0   38769    3477              0    186          6          0        196   \n",
       "1   23570    3477              0    186          6          0        196   \n",
       "2   23495    3477              0    186          6          0        196   \n",
       "3   26073    3477              0    186          6          0        196   \n",
       "4   34302    3477              0    186          6          0        196   \n",
       "\n",
       "   feature_4  feature_5  item_cluster  \n",
       "0          0         45             1  \n",
       "1          0         45             1  \n",
       "2          0         45             1  \n",
       "3          0         45             1  \n",
       "4          0         45             1  "
      ]
     },
     "execution_count": 71,
     "metadata": {},
     "output_type": "execute_result"
    }
   ],
   "source": [
    "# drop kolom order, day, month, year dan week\n",
    "df_orders_items_2 = df_orders_items.drop(columns = ['order', 'day', 'month', 'year', 'week'])\n",
    "df_orders_items_2.head()"
   ]
  },
  {
   "cell_type": "markdown",
   "metadata": {
    "id": "zdux7K0bLLod"
   },
   "source": [
    "# 4.Pembangunan Model Klasifikasi"
   ]
  },
  {
   "cell_type": "markdown",
   "metadata": {
    "id": "ub4Q_shPPneT"
   },
   "source": [
    "## 4.1.Split Dataset"
   ]
  },
  {
   "cell_type": "code",
   "execution_count": 72,
   "metadata": {
    "id": "WPfuM_Q-MXpb"
   },
   "outputs": [],
   "source": [
    "from sklearn.model_selection import train_test_split\n",
    "\n",
    "X = df_orders_items_2.drop(columns=['replenishment'], axis=1)\n",
    "y = df_orders_items_2[['replenishment']]\n",
    "\n",
    "X_train, X_test, y_train, y_test = train_test_split(X,y, test_size=0.30, random_state=120)\n"
   ]
  },
  {
   "cell_type": "markdown",
   "metadata": {
    "id": "x59C0uNTeQIO"
   },
   "source": [
    "## 4.2.Pembangunan Model"
   ]
  },
  {
   "cell_type": "code",
   "execution_count": 73,
   "metadata": {
    "id": "KQDboWYkeTKW"
   },
   "outputs": [],
   "source": [
    "from sklearn.naive_bayes import GaussianNB\n",
    "from sklearn.linear_model import LogisticRegression\n",
    "from sklearn.neighbors import KNeighborsClassifier\n",
    "from sklearn.tree import DecisionTreeClassifier\n",
    "from sklearn.metrics import accuracy_score\n",
    "from sklearn.metrics import f1_score\n",
    "from sklearn.metrics import recall_score\n",
    "from sklearn.metrics import precision_score"
   ]
  },
  {
   "cell_type": "code",
   "execution_count": 74,
   "metadata": {
    "id": "-CKM06ytkfhA"
   },
   "outputs": [],
   "source": [
    "# Train untuk tiap Algoritma\n",
    "scores = []\n",
    "models = [GaussianNB(), LogisticRegression(), KNeighborsClassifier(),DecisionTreeClassifier()]\n",
    "models_name = [\"Naive Bayes\", \"Logistic Regression\", \"KNN\", \"Decision Tree\"] \n",
    "iterator = 0\n",
    "\n",
    "for model in models:\n",
    "  model.fit(X_train, y_train)\n",
    "  y_pred = model.predict(X_test)\n",
    "  scores.append({\n",
    "      \"Model\" : models_name[iterator],\n",
    "      \"Accuracy\" : accuracy_score(y_test, y_pred),\n",
    "      \"F1 Score\" : f1_score(y_test, y_pred,average = 'weighted'),\n",
    "      \"Recall\" : recall_score(y_test, y_pred,average = 'weighted'),\n",
    "      \"Precision\" : precision_score(y_test, y_pred,average = 'weighted')\n",
    "  })\n",
    "  iterator += 1"
   ]
  },
  {
   "cell_type": "code",
   "execution_count": 75,
   "metadata": {
    "colab": {
     "base_uri": "https://localhost:8080/",
     "height": 206
    },
    "id": "vYK28lEGoZr-",
    "outputId": "2d18e610-3320-4168-9268-a013e9cb7506"
   },
   "outputs": [
    {
     "data": {
      "text/html": [
       "<div>\n",
       "<style scoped>\n",
       "    .dataframe tbody tr th:only-of-type {\n",
       "        vertical-align: middle;\n",
       "    }\n",
       "\n",
       "    .dataframe tbody tr th {\n",
       "        vertical-align: top;\n",
       "    }\n",
       "\n",
       "    .dataframe thead th {\n",
       "        text-align: right;\n",
       "    }\n",
       "</style>\n",
       "<table border=\"1\" class=\"dataframe\">\n",
       "  <thead>\n",
       "    <tr style=\"text-align: right;\">\n",
       "      <th></th>\n",
       "      <th>Accuracy</th>\n",
       "      <th>F1 Score</th>\n",
       "      <th>Precision</th>\n",
       "      <th>Recall</th>\n",
       "    </tr>\n",
       "    <tr>\n",
       "      <th>Model</th>\n",
       "      <th></th>\n",
       "      <th></th>\n",
       "      <th></th>\n",
       "      <th></th>\n",
       "    </tr>\n",
       "  </thead>\n",
       "  <tbody>\n",
       "    <tr>\n",
       "      <th>Naive Bayes</th>\n",
       "      <td>0.730500</td>\n",
       "      <td>0.616735</td>\n",
       "      <td>0.533630</td>\n",
       "      <td>0.730500</td>\n",
       "    </tr>\n",
       "    <tr>\n",
       "      <th>Logistic Regression</th>\n",
       "      <td>0.730500</td>\n",
       "      <td>0.616735</td>\n",
       "      <td>0.533630</td>\n",
       "      <td>0.730500</td>\n",
       "    </tr>\n",
       "    <tr>\n",
       "      <th>KNN</th>\n",
       "      <td>0.701308</td>\n",
       "      <td>0.639611</td>\n",
       "      <td>0.600889</td>\n",
       "      <td>0.701308</td>\n",
       "    </tr>\n",
       "    <tr>\n",
       "      <th>Decision Tree</th>\n",
       "      <td>0.678317</td>\n",
       "      <td>0.704006</td>\n",
       "      <td>0.735523</td>\n",
       "      <td>0.678317</td>\n",
       "    </tr>\n",
       "  </tbody>\n",
       "</table>\n",
       "</div>"
      ],
      "text/plain": [
       "                     Accuracy  F1 Score  Precision    Recall\n",
       "Model                                                       \n",
       "Naive Bayes          0.730500  0.616735   0.533630  0.730500\n",
       "Logistic Regression  0.730500  0.616735   0.533630  0.730500\n",
       "KNN                  0.701308  0.639611   0.600889  0.701308\n",
       "Decision Tree        0.678317  0.704006   0.735523  0.678317"
      ]
     },
     "execution_count": 75,
     "metadata": {},
     "output_type": "execute_result"
    }
   ],
   "source": [
    "result = pd.DataFrame(scores, columns = ['Model', 'Accuracy','F1 Score', 'Precision', 'Recall']).set_index('Model')\n",
    "result"
   ]
  },
  {
   "cell_type": "markdown",
   "metadata": {
    "id": "oF3iTf24r5Wi"
   },
   "source": [
    "## 4.3.Prediksi Data Submission"
   ]
  },
  {
   "cell_type": "code",
   "execution_count": 76,
   "metadata": {
    "colab": {
     "base_uri": "https://localhost:8080/",
     "height": 206
    },
    "id": "LR9YWFc83MhK",
    "outputId": "225444f5-3175-4882-a181-3b7ec529003c"
   },
   "outputs": [
    {
     "data": {
      "text/html": [
       "<div>\n",
       "<style scoped>\n",
       "    .dataframe tbody tr th:only-of-type {\n",
       "        vertical-align: middle;\n",
       "    }\n",
       "\n",
       "    .dataframe tbody tr th {\n",
       "        vertical-align: top;\n",
       "    }\n",
       "\n",
       "    .dataframe thead th {\n",
       "        text-align: right;\n",
       "    }\n",
       "</style>\n",
       "<table border=\"1\" class=\"dataframe\">\n",
       "  <thead>\n",
       "    <tr style=\"text-align: right;\">\n",
       "      <th></th>\n",
       "      <th>userID</th>\n",
       "      <th>itemID</th>\n",
       "      <th>prediction</th>\n",
       "    </tr>\n",
       "  </thead>\n",
       "  <tbody>\n",
       "    <tr>\n",
       "      <th>0</th>\n",
       "      <td>0</td>\n",
       "      <td>20664</td>\n",
       "      <td>NaN</td>\n",
       "    </tr>\n",
       "    <tr>\n",
       "      <th>1</th>\n",
       "      <td>0</td>\n",
       "      <td>28231</td>\n",
       "      <td>NaN</td>\n",
       "    </tr>\n",
       "    <tr>\n",
       "      <th>2</th>\n",
       "      <td>13</td>\n",
       "      <td>2690</td>\n",
       "      <td>NaN</td>\n",
       "    </tr>\n",
       "    <tr>\n",
       "      <th>3</th>\n",
       "      <td>15</td>\n",
       "      <td>1299</td>\n",
       "      <td>NaN</td>\n",
       "    </tr>\n",
       "    <tr>\n",
       "      <th>4</th>\n",
       "      <td>15</td>\n",
       "      <td>20968</td>\n",
       "      <td>NaN</td>\n",
       "    </tr>\n",
       "  </tbody>\n",
       "</table>\n",
       "</div>"
      ],
      "text/plain": [
       "   userID  itemID  prediction\n",
       "0       0   20664         NaN\n",
       "1       0   28231         NaN\n",
       "2      13    2690         NaN\n",
       "3      15    1299         NaN\n",
       "4      15   20968         NaN"
      ]
     },
     "execution_count": 76,
     "metadata": {},
     "output_type": "execute_result"
    }
   ],
   "source": [
    "# preview dataset submission\n",
    "df_submission.head()"
   ]
  },
  {
   "cell_type": "code",
   "execution_count": 77,
   "metadata": {
    "colab": {
     "base_uri": "https://localhost:8080/",
     "height": 424
    },
    "id": "z9jY8C7w3Rzw",
    "outputId": "2dde51e8-1b14-41b1-8b66-273a657c468d"
   },
   "outputs": [
    {
     "data": {
      "text/html": [
       "<div>\n",
       "<style scoped>\n",
       "    .dataframe tbody tr th:only-of-type {\n",
       "        vertical-align: middle;\n",
       "    }\n",
       "\n",
       "    .dataframe tbody tr th {\n",
       "        vertical-align: top;\n",
       "    }\n",
       "\n",
       "    .dataframe thead th {\n",
       "        text-align: right;\n",
       "    }\n",
       "</style>\n",
       "<table border=\"1\" class=\"dataframe\">\n",
       "  <thead>\n",
       "    <tr style=\"text-align: right;\">\n",
       "      <th></th>\n",
       "      <th>userID</th>\n",
       "      <th>itemID</th>\n",
       "      <th>brand</th>\n",
       "      <th>feature_1</th>\n",
       "      <th>feature_2</th>\n",
       "      <th>feature_3</th>\n",
       "      <th>feature_4</th>\n",
       "      <th>feature_5</th>\n",
       "      <th>item_cluster</th>\n",
       "      <th>prediction</th>\n",
       "    </tr>\n",
       "  </thead>\n",
       "  <tbody>\n",
       "    <tr>\n",
       "      <th>0</th>\n",
       "      <td>0</td>\n",
       "      <td>20664</td>\n",
       "      <td>408</td>\n",
       "      <td>4</td>\n",
       "      <td>0</td>\n",
       "      <td>284</td>\n",
       "      <td>0</td>\n",
       "      <td>66</td>\n",
       "      <td>1</td>\n",
       "      <td>NaN</td>\n",
       "    </tr>\n",
       "    <tr>\n",
       "      <th>1</th>\n",
       "      <td>23363</td>\n",
       "      <td>20664</td>\n",
       "      <td>408</td>\n",
       "      <td>4</td>\n",
       "      <td>0</td>\n",
       "      <td>284</td>\n",
       "      <td>0</td>\n",
       "      <td>66</td>\n",
       "      <td>1</td>\n",
       "      <td>NaN</td>\n",
       "    </tr>\n",
       "    <tr>\n",
       "      <th>2</th>\n",
       "      <td>0</td>\n",
       "      <td>28231</td>\n",
       "      <td>193</td>\n",
       "      <td>4</td>\n",
       "      <td>3</td>\n",
       "      <td>468</td>\n",
       "      <td>3</td>\n",
       "      <td>108</td>\n",
       "      <td>2</td>\n",
       "      <td>NaN</td>\n",
       "    </tr>\n",
       "    <tr>\n",
       "      <th>3</th>\n",
       "      <td>13</td>\n",
       "      <td>2690</td>\n",
       "      <td>406</td>\n",
       "      <td>4</td>\n",
       "      <td>3</td>\n",
       "      <td>491</td>\n",
       "      <td>0</td>\n",
       "      <td>66</td>\n",
       "      <td>0</td>\n",
       "      <td>NaN</td>\n",
       "    </tr>\n",
       "    <tr>\n",
       "      <th>4</th>\n",
       "      <td>15</td>\n",
       "      <td>1299</td>\n",
       "      <td>1056</td>\n",
       "      <td>4</td>\n",
       "      <td>0</td>\n",
       "      <td>474</td>\n",
       "      <td>-1</td>\n",
       "      <td>108</td>\n",
       "      <td>2</td>\n",
       "      <td>NaN</td>\n",
       "    </tr>\n",
       "    <tr>\n",
       "      <th>...</th>\n",
       "      <td>...</td>\n",
       "      <td>...</td>\n",
       "      <td>...</td>\n",
       "      <td>...</td>\n",
       "      <td>...</td>\n",
       "      <td>...</td>\n",
       "      <td>...</td>\n",
       "      <td>...</td>\n",
       "      <td>...</td>\n",
       "      <td>...</td>\n",
       "    </tr>\n",
       "    <tr>\n",
       "      <th>9995</th>\n",
       "      <td>46049</td>\n",
       "      <td>17984</td>\n",
       "      <td>449</td>\n",
       "      <td>6</td>\n",
       "      <td>0</td>\n",
       "      <td>207</td>\n",
       "      <td>3</td>\n",
       "      <td>45</td>\n",
       "      <td>1</td>\n",
       "      <td>NaN</td>\n",
       "    </tr>\n",
       "    <tr>\n",
       "      <th>9996</th>\n",
       "      <td>46069</td>\n",
       "      <td>29992</td>\n",
       "      <td>280</td>\n",
       "      <td>4</td>\n",
       "      <td>0</td>\n",
       "      <td>484</td>\n",
       "      <td>0</td>\n",
       "      <td>44</td>\n",
       "      <td>0</td>\n",
       "      <td>NaN</td>\n",
       "    </tr>\n",
       "    <tr>\n",
       "      <th>9997</th>\n",
       "      <td>46117</td>\n",
       "      <td>8847</td>\n",
       "      <td>143</td>\n",
       "      <td>6</td>\n",
       "      <td>1</td>\n",
       "      <td>46</td>\n",
       "      <td>0</td>\n",
       "      <td>69</td>\n",
       "      <td>1</td>\n",
       "      <td>NaN</td>\n",
       "    </tr>\n",
       "    <tr>\n",
       "      <th>9998</th>\n",
       "      <td>46124</td>\n",
       "      <td>19677</td>\n",
       "      <td>1006</td>\n",
       "      <td>4</td>\n",
       "      <td>0</td>\n",
       "      <td>491</td>\n",
       "      <td>3</td>\n",
       "      <td>154</td>\n",
       "      <td>3</td>\n",
       "      <td>NaN</td>\n",
       "    </tr>\n",
       "    <tr>\n",
       "      <th>9999</th>\n",
       "      <td>46127</td>\n",
       "      <td>7963</td>\n",
       "      <td>1111</td>\n",
       "      <td>4</td>\n",
       "      <td>0</td>\n",
       "      <td>485</td>\n",
       "      <td>3</td>\n",
       "      <td>154</td>\n",
       "      <td>3</td>\n",
       "      <td>NaN</td>\n",
       "    </tr>\n",
       "  </tbody>\n",
       "</table>\n",
       "<p>10000 rows × 10 columns</p>\n",
       "</div>"
      ],
      "text/plain": [
       "      userID  itemID  brand  feature_1  feature_2  feature_3  feature_4  \\\n",
       "0          0   20664    408          4          0        284          0   \n",
       "1      23363   20664    408          4          0        284          0   \n",
       "2          0   28231    193          4          3        468          3   \n",
       "3         13    2690    406          4          3        491          0   \n",
       "4         15    1299   1056          4          0        474         -1   \n",
       "...      ...     ...    ...        ...        ...        ...        ...   \n",
       "9995   46049   17984    449          6          0        207          3   \n",
       "9996   46069   29992    280          4          0        484          0   \n",
       "9997   46117    8847    143          6          1         46          0   \n",
       "9998   46124   19677   1006          4          0        491          3   \n",
       "9999   46127    7963   1111          4          0        485          3   \n",
       "\n",
       "      feature_5  item_cluster  prediction  \n",
       "0            66             1         NaN  \n",
       "1            66             1         NaN  \n",
       "2           108             2         NaN  \n",
       "3            66             0         NaN  \n",
       "4           108             2         NaN  \n",
       "...         ...           ...         ...  \n",
       "9995         45             1         NaN  \n",
       "9996         44             0         NaN  \n",
       "9997         69             1         NaN  \n",
       "9998        154             3         NaN  \n",
       "9999        154             3         NaN  \n",
       "\n",
       "[10000 rows x 10 columns]"
      ]
     },
     "execution_count": 77,
     "metadata": {},
     "output_type": "execute_result"
    }
   ],
   "source": [
    "# menggabungkan data item pada data submission \n",
    "df_submission_extended = pd.merge(df_submission, df_items_klaster, on = \"itemID\")\n",
    "df_submission_extended = df_submission_extended[np.concatenate((['userID'], df_items_klaster.columns,['prediction']))]\n",
    "df_submission_extended"
   ]
  },
  {
   "cell_type": "code",
   "execution_count": 78,
   "metadata": {
    "colab": {
     "base_uri": "https://localhost:8080/",
     "height": 206
    },
    "id": "lZsPiR746Dhy",
    "outputId": "2fd504aa-9e2b-4ad6-cdc1-f71188089e01"
   },
   "outputs": [
    {
     "data": {
      "text/html": [
       "<div>\n",
       "<style scoped>\n",
       "    .dataframe tbody tr th:only-of-type {\n",
       "        vertical-align: middle;\n",
       "    }\n",
       "\n",
       "    .dataframe tbody tr th {\n",
       "        vertical-align: top;\n",
       "    }\n",
       "\n",
       "    .dataframe thead th {\n",
       "        text-align: right;\n",
       "    }\n",
       "</style>\n",
       "<table border=\"1\" class=\"dataframe\">\n",
       "  <thead>\n",
       "    <tr style=\"text-align: right;\">\n",
       "      <th></th>\n",
       "      <th>userID</th>\n",
       "      <th>itemID</th>\n",
       "      <th>brand</th>\n",
       "      <th>feature_1</th>\n",
       "      <th>feature_2</th>\n",
       "      <th>feature_3</th>\n",
       "      <th>feature_4</th>\n",
       "      <th>feature_5</th>\n",
       "      <th>item_cluster</th>\n",
       "      <th>prediction</th>\n",
       "    </tr>\n",
       "  </thead>\n",
       "  <tbody>\n",
       "    <tr>\n",
       "      <th>0</th>\n",
       "      <td>0</td>\n",
       "      <td>20664</td>\n",
       "      <td>408</td>\n",
       "      <td>4</td>\n",
       "      <td>0</td>\n",
       "      <td>284</td>\n",
       "      <td>0</td>\n",
       "      <td>66</td>\n",
       "      <td>1</td>\n",
       "      <td>1</td>\n",
       "    </tr>\n",
       "    <tr>\n",
       "      <th>1</th>\n",
       "      <td>23363</td>\n",
       "      <td>20664</td>\n",
       "      <td>408</td>\n",
       "      <td>4</td>\n",
       "      <td>0</td>\n",
       "      <td>284</td>\n",
       "      <td>0</td>\n",
       "      <td>66</td>\n",
       "      <td>1</td>\n",
       "      <td>2</td>\n",
       "    </tr>\n",
       "    <tr>\n",
       "      <th>2</th>\n",
       "      <td>0</td>\n",
       "      <td>28231</td>\n",
       "      <td>193</td>\n",
       "      <td>4</td>\n",
       "      <td>3</td>\n",
       "      <td>468</td>\n",
       "      <td>3</td>\n",
       "      <td>108</td>\n",
       "      <td>2</td>\n",
       "      <td>2</td>\n",
       "    </tr>\n",
       "    <tr>\n",
       "      <th>3</th>\n",
       "      <td>13</td>\n",
       "      <td>2690</td>\n",
       "      <td>406</td>\n",
       "      <td>4</td>\n",
       "      <td>3</td>\n",
       "      <td>491</td>\n",
       "      <td>0</td>\n",
       "      <td>66</td>\n",
       "      <td>0</td>\n",
       "      <td>4</td>\n",
       "    </tr>\n",
       "    <tr>\n",
       "      <th>4</th>\n",
       "      <td>15</td>\n",
       "      <td>1299</td>\n",
       "      <td>1056</td>\n",
       "      <td>4</td>\n",
       "      <td>0</td>\n",
       "      <td>474</td>\n",
       "      <td>-1</td>\n",
       "      <td>108</td>\n",
       "      <td>2</td>\n",
       "      <td>4</td>\n",
       "    </tr>\n",
       "  </tbody>\n",
       "</table>\n",
       "</div>"
      ],
      "text/plain": [
       "   userID  itemID  brand  feature_1  feature_2  feature_3  feature_4  \\\n",
       "0       0   20664    408          4          0        284          0   \n",
       "1   23363   20664    408          4          0        284          0   \n",
       "2       0   28231    193          4          3        468          3   \n",
       "3      13    2690    406          4          3        491          0   \n",
       "4      15    1299   1056          4          0        474         -1   \n",
       "\n",
       "   feature_5  item_cluster  prediction  \n",
       "0         66             1           1  \n",
       "1         66             1           2  \n",
       "2        108             2           2  \n",
       "3         66             0           4  \n",
       "4        108             2           4  "
      ]
     },
     "execution_count": 78,
     "metadata": {},
     "output_type": "execute_result"
    }
   ],
   "source": [
    "# prediksi data submission dengan decision tree classifier\n",
    "df_submission_extended['prediction'] = models[3].predict(df_submission_extended.drop(columns = 'prediction'))\n",
    "df_submission_extended.head()"
   ]
  },
  {
   "cell_type": "code",
   "execution_count": 79,
   "metadata": {
    "colab": {
     "base_uri": "https://localhost:8080/"
    },
    "id": "5O7ZGAFgJrn3",
    "outputId": "bde9d374-6975-420b-94e3-ea881952f91e"
   },
   "outputs": [
    {
     "data": {
      "text/plain": [
       "prediction\n",
       "1    3423\n",
       "2    2603\n",
       "4    1922\n",
       "3    1731\n",
       "0     321\n",
       "Name: count, dtype: int64"
      ]
     },
     "execution_count": 79,
     "metadata": {},
     "output_type": "execute_result"
    }
   ],
   "source": [
    "df_submission_extended['prediction'].value_counts()"
   ]
  },
  {
   "cell_type": "code",
   "execution_count": 80,
   "metadata": {
    "colab": {
     "base_uri": "https://localhost:8080/",
     "height": 206
    },
    "id": "vdnkZ-1cqNjZ",
    "outputId": "71573f1f-fb25-4d42-8b02-433d63e3cabc"
   },
   "outputs": [
    {
     "data": {
      "text/html": [
       "<div>\n",
       "<style scoped>\n",
       "    .dataframe tbody tr th:only-of-type {\n",
       "        vertical-align: middle;\n",
       "    }\n",
       "\n",
       "    .dataframe tbody tr th {\n",
       "        vertical-align: top;\n",
       "    }\n",
       "\n",
       "    .dataframe thead th {\n",
       "        text-align: right;\n",
       "    }\n",
       "</style>\n",
       "<table border=\"1\" class=\"dataframe\">\n",
       "  <thead>\n",
       "    <tr style=\"text-align: right;\">\n",
       "      <th></th>\n",
       "      <th>userID</th>\n",
       "      <th>itemID</th>\n",
       "      <th>prediction</th>\n",
       "    </tr>\n",
       "  </thead>\n",
       "  <tbody>\n",
       "    <tr>\n",
       "      <th>0</th>\n",
       "      <td>0</td>\n",
       "      <td>20664</td>\n",
       "      <td>1</td>\n",
       "    </tr>\n",
       "    <tr>\n",
       "      <th>1</th>\n",
       "      <td>0</td>\n",
       "      <td>28231</td>\n",
       "      <td>2</td>\n",
       "    </tr>\n",
       "    <tr>\n",
       "      <th>2</th>\n",
       "      <td>13</td>\n",
       "      <td>2690</td>\n",
       "      <td>2</td>\n",
       "    </tr>\n",
       "    <tr>\n",
       "      <th>3</th>\n",
       "      <td>15</td>\n",
       "      <td>1299</td>\n",
       "      <td>4</td>\n",
       "    </tr>\n",
       "    <tr>\n",
       "      <th>4</th>\n",
       "      <td>15</td>\n",
       "      <td>20968</td>\n",
       "      <td>4</td>\n",
       "    </tr>\n",
       "  </tbody>\n",
       "</table>\n",
       "</div>"
      ],
      "text/plain": [
       "   userID  itemID  prediction\n",
       "0       0   20664           1\n",
       "1       0   28231           2\n",
       "2      13    2690           2\n",
       "3      15    1299           4\n",
       "4      15   20968           4"
      ]
     },
     "execution_count": 80,
     "metadata": {},
     "output_type": "execute_result"
    }
   ],
   "source": [
    "df_submission['prediction'] = df_submission_extended['prediction']\n",
    "df_submission.head()"
   ]
  },
  {
   "cell_type": "code",
   "execution_count": 81,
   "metadata": {
    "colab": {
     "base_uri": "https://localhost:8080/",
     "height": 300
    },
    "id": "Jqlw5eG_2pNn",
    "outputId": "7b95a077-a090-4918-8bea-5e74e65f65dc"
   },
   "outputs": [
    {
     "data": {
      "text/html": [
       "<div>\n",
       "<style scoped>\n",
       "    .dataframe tbody tr th:only-of-type {\n",
       "        vertical-align: middle;\n",
       "    }\n",
       "\n",
       "    .dataframe tbody tr th {\n",
       "        vertical-align: top;\n",
       "    }\n",
       "\n",
       "    .dataframe thead th {\n",
       "        text-align: right;\n",
       "    }\n",
       "</style>\n",
       "<table border=\"1\" class=\"dataframe\">\n",
       "  <thead>\n",
       "    <tr style=\"text-align: right;\">\n",
       "      <th></th>\n",
       "      <th>userID</th>\n",
       "      <th>itemID</th>\n",
       "      <th>order</th>\n",
       "      <th>day</th>\n",
       "      <th>month</th>\n",
       "      <th>year</th>\n",
       "      <th>week</th>\n",
       "      <th>replenishment</th>\n",
       "    </tr>\n",
       "  </thead>\n",
       "  <tbody>\n",
       "    <tr>\n",
       "      <th>420602</th>\n",
       "      <td>15</td>\n",
       "      <td>1299</td>\n",
       "      <td>1</td>\n",
       "      <td>9</td>\n",
       "      <td>9</td>\n",
       "      <td>2020</td>\n",
       "      <td>2</td>\n",
       "      <td>2</td>\n",
       "    </tr>\n",
       "    <tr>\n",
       "      <th>756052</th>\n",
       "      <td>15</td>\n",
       "      <td>1299</td>\n",
       "      <td>1</td>\n",
       "      <td>29</td>\n",
       "      <td>11</td>\n",
       "      <td>2020</td>\n",
       "      <td>4</td>\n",
       "      <td>4</td>\n",
       "    </tr>\n",
       "    <tr>\n",
       "      <th>884004</th>\n",
       "      <td>15</td>\n",
       "      <td>1299</td>\n",
       "      <td>1</td>\n",
       "      <td>26</td>\n",
       "      <td>12</td>\n",
       "      <td>2020</td>\n",
       "      <td>4</td>\n",
       "      <td>4</td>\n",
       "    </tr>\n",
       "    <tr>\n",
       "      <th>976627</th>\n",
       "      <td>15</td>\n",
       "      <td>1299</td>\n",
       "      <td>1</td>\n",
       "      <td>14</td>\n",
       "      <td>1</td>\n",
       "      <td>2021</td>\n",
       "      <td>2</td>\n",
       "      <td>2</td>\n",
       "    </tr>\n",
       "    <tr>\n",
       "      <th>538845</th>\n",
       "      <td>15</td>\n",
       "      <td>20968</td>\n",
       "      <td>1</td>\n",
       "      <td>8</td>\n",
       "      <td>10</td>\n",
       "      <td>2020</td>\n",
       "      <td>2</td>\n",
       "      <td>2</td>\n",
       "    </tr>\n",
       "    <tr>\n",
       "      <th>756049</th>\n",
       "      <td>15</td>\n",
       "      <td>20968</td>\n",
       "      <td>1</td>\n",
       "      <td>29</td>\n",
       "      <td>11</td>\n",
       "      <td>2020</td>\n",
       "      <td>4</td>\n",
       "      <td>4</td>\n",
       "    </tr>\n",
       "    <tr>\n",
       "      <th>884005</th>\n",
       "      <td>15</td>\n",
       "      <td>20968</td>\n",
       "      <td>1</td>\n",
       "      <td>26</td>\n",
       "      <td>12</td>\n",
       "      <td>2020</td>\n",
       "      <td>4</td>\n",
       "      <td>4</td>\n",
       "    </tr>\n",
       "    <tr>\n",
       "      <th>1036486</th>\n",
       "      <td>15</td>\n",
       "      <td>20968</td>\n",
       "      <td>1</td>\n",
       "      <td>25</td>\n",
       "      <td>1</td>\n",
       "      <td>2021</td>\n",
       "      <td>4</td>\n",
       "      <td>4</td>\n",
       "    </tr>\n",
       "  </tbody>\n",
       "</table>\n",
       "</div>"
      ],
      "text/plain": [
       "         userID  itemID  order  day  month  year  week  replenishment\n",
       "420602       15    1299      1    9      9  2020     2              2\n",
       "756052       15    1299      1   29     11  2020     4              4\n",
       "884004       15    1299      1   26     12  2020     4              4\n",
       "976627       15    1299      1   14      1  2021     2              2\n",
       "538845       15   20968      1    8     10  2020     2              2\n",
       "756049       15   20968      1   29     11  2020     4              4\n",
       "884005       15   20968      1   26     12  2020     4              4\n",
       "1036486      15   20968      1   25      1  2021     4              4"
      ]
     },
     "execution_count": 81,
     "metadata": {},
     "output_type": "execute_result"
    }
   ],
   "source": [
    "# Melihat kesesuaian hasil prediksi dengan pola pembelian user pada periode sebelumnya (cth userID = 15)\n",
    "df_cyclical[(df_cyclical['userID'] == 15) & ((df_cyclical['itemID'] == 1299) | (df_cyclical['itemID'] == 20968))].sort_values(by = 'itemID')"
   ]
  },
  {
   "cell_type": "code",
   "execution_count": 83,
   "metadata": {
    "id": "AlfgybKD2eTb"
   },
   "outputs": [],
   "source": [
    "# Eksport dataset submission\n",
    "df_submission.to_csv(\"../result/submission.csv\", index=False)"
   ]
  }
 ],
 "metadata": {
  "colab": {
   "provenance": []
  },
  "kernelspec": {
   "display_name": "Python 3 (ipykernel)",
   "language": "python",
   "name": "python3"
  },
  "language_info": {
   "codemirror_mode": {
    "name": "ipython",
    "version": 3
   },
   "file_extension": ".py",
   "mimetype": "text/x-python",
   "name": "python",
   "nbconvert_exporter": "python",
   "pygments_lexer": "ipython3",
   "version": "3.11.4"
  }
 },
 "nbformat": 4,
 "nbformat_minor": 4
}
